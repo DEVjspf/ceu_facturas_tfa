{
  "cells": [
    {
      "cell_type": "markdown",
      "metadata": {
        "id": "view-in-github",
        "colab_type": "text"
      },
      "source": [
        "<a href=\"https://colab.research.google.com/github/DEVjspf/ceu_facturas_tfa/blob/main/dev_facturas.ipynb\" target=\"_parent\"><img src=\"https://colab.research.google.com/assets/colab-badge.svg\" alt=\"Open In Colab\"/></a>"
      ]
    },
    {
      "cell_type": "markdown",
      "id": "ea0b9f9e",
      "metadata": {
        "id": "ea0b9f9e"
      },
      "source": [
        "# Proyecto: Extracción de datos de facturas eléctricas\n",
        "## Objetivo:\n",
        "Extraer y gestionar información clave de facturas eléctricas para optimizar la asesoría y gestión mensual."
      ]
    },
    {
      "cell_type": "code",
      "execution_count": null,
      "id": "e29fb330",
      "metadata": {
        "id": "e29fb330"
      },
      "outputs": [],
      "source": [
        "# Instalación de librerías necesarias\n",
        "#!pip install langchain langchain-community langchain-experimental ollama PyMuPDF pydantic sqlalchemy psycopg[binary] faiss-cpu\n"
      ]
    },
    {
      "cell_type": "markdown",
      "id": "636a4314",
      "metadata": {
        "id": "636a4314"
      },
      "source": [
        "### 📘 1. Importación de librerías necesarias"
      ]
    },
    {
      "cell_type": "code",
      "execution_count": 1,
      "id": "d94d046c",
      "metadata": {
        "id": "d94d046c"
      },
      "outputs": [],
      "source": [
        "import os\n",
        "import fitz  # PyMuPDF\n",
        "import re\n",
        "import json\n",
        "from typing import List\n",
        "from pydantic import BaseModel\n",
        "import pandas as pd\n",
        "from sklearn.metrics import confusion_matrix, f1_score, recall_score\n",
        "from sentence_transformers import SentenceTransformer\n",
        "import numpy as np\n",
        "import faiss\n",
        "import requests"
      ]
    },
    {
      "cell_type": "code",
      "source": [
        "os.environ[\"TOGETHER_API_KEY\"] = \"tgp_v1_PHdIPUdwUiD4Br7N3HjeZbxeNJuEdTRpW9LrfkFWZe8\""
      ],
      "metadata": {
        "id": "kHCoQp-sxLMC"
      },
      "id": "kHCoQp-sxLMC",
      "execution_count": 2,
      "outputs": []
    },
    {
      "cell_type": "markdown",
      "id": "8dd87894",
      "metadata": {
        "id": "8dd87894"
      },
      "source": [
        "### 📄 2. Cargar y leer texto desde el PDF"
      ]
    },
    {
      "cell_type": "code",
      "execution_count": 3,
      "id": "5a611a3f",
      "metadata": {
        "colab": {
          "base_uri": "https://localhost:8080/"
        },
        "id": "5a611a3f",
        "outputId": "6dc66b3f-d3b2-4f14-c9fe-603013560568"
      },
      "outputs": [
        {
          "output_type": "stream",
          "name": "stdout",
          "text": [
            "\n",
            "📄 Archivo: Endesa Factura 08022024.pdf\n",
            "----------------------------------------\n",
            "VX10C02P-D-06/02/24 N0026249LNNNN\n",
            "LARS TANKMAR TANKMAR\n",
            "AVENIDA ONZE DE SETEMBRE 1 ESC-3 ATC-2\n",
            "17255 BEGUR\n",
            "GIRONA\n",
            "Endesa Energía, S.A. Unipersonal. Inscrita en el Registro Mercantil de Madrid. Tomo 12.797, Libro 0, Folio 208,\n",
            " Sección 8ª, Hoja M-205.381, CIF A81948077. Domicilio Social: C/Ribera del Loira, nº60 28042 - Madrid.\n",
            "Endesa Energía, S.A. Unipersonal.\n",
            "CIF A81948077.\n",
            "C/Ribera del Loira, nº 60 28042 - Madrid.\n",
            "DATOS DE LA FACTURA\n",
            "Nº factura: PMM401N0380480\n",
            "Referencia: 012294855257/0412\n",
            "Fech\n",
            "----------------------------------------\n"
          ]
        }
      ],
      "source": [
        "from pathlib import Path\n",
        "\n",
        "import fitz  # PyMuPDF\n",
        "\n",
        "ruta_facturas = Path(\"data/facturas/\")\n",
        "\n",
        "def extraer_texto_pdf(pdf_path):\n",
        "    with fitz.open(pdf_path) as pdf:\n",
        "        texto_factura = \"\"\n",
        "        for pagina in pdf:\n",
        "            texto_factura += pagina.get_text()\n",
        "    return texto_factura\n",
        "\n",
        "for pdf_file in ruta_facturas.glob(\"*.pdf\"):\n",
        "    texto_factura = extraer_texto_pdf(pdf_file)\n",
        "    print(f\"\\n📄 Archivo: {pdf_file.name}\\n{'-'*40}\")\n",
        "    print(texto_factura[:500])\n",
        "    print(\"-\"*40)"
      ]
    },
    {
      "cell_type": "markdown",
      "id": "e102f0f3",
      "metadata": {
        "id": "e102f0f3"
      },
      "source": [
        "### 🧾 3. Definir el esquema de los datos con Pydantic"
      ]
    },
    {
      "cell_type": "code",
      "execution_count": 4,
      "id": "0130fef9",
      "metadata": {
        "id": "0130fef9"
      },
      "outputs": [],
      "source": [
        "from pydantic import BaseModel\n",
        "from datetime import datetime\n",
        "from typing import Optional\n",
        "\n",
        "class FacturaElectrica(BaseModel):\n",
        "    numero_factura: Optional[str]\n",
        "    fecha_emision: Optional[datetime]\n",
        "    periodo_inicio: Optional[datetime]\n",
        "    periodo_fin: Optional[datetime]\n",
        "    consumo_total_kwh: Optional[float]\n",
        "    potencia_punta_kw: Optional[float]\n",
        "    potencia_valle_kw: Optional[float]\n",
        "    importe_total: Optional[float]\n"
      ]
    },
    {
      "cell_type": "code",
      "execution_count": 5,
      "id": "20b5f514",
      "metadata": {
        "colab": {
          "base_uri": "https://localhost:8080/"
        },
        "id": "20b5f514",
        "outputId": "02a2d4ef-6cdb-4b3d-b446-e44ea66b7b79"
      },
      "outputs": [
        {
          "output_type": "stream",
          "name": "stdout",
          "text": [
            "{\n",
            "  \"properties\": {\n",
            "    \"numero_factura\": {\n",
            "      \"anyOf\": [\n",
            "        {\n",
            "          \"type\": \"string\"\n",
            "        },\n",
            "        {\n",
            "          \"type\": \"null\"\n",
            "        }\n",
            "      ],\n",
            "      \"title\": \"Numero Factura\"\n",
            "    },\n",
            "    \"fecha_emision\": {\n",
            "      \"anyOf\": [\n",
            "        {\n",
            "          \"format\": \"date-time\",\n",
            "          \"type\": \"string\"\n",
            "        },\n",
            "        {\n",
            "          \"type\": \"null\"\n",
            "        }\n",
            "      ],\n",
            "      \"title\": \"Fecha Emision\"\n",
            "    },\n",
            "    \"periodo_inicio\": {\n",
            "      \"anyOf\": [\n",
            "        {\n",
            "          \"format\": \"date-time\",\n",
            "          \"type\": \"string\"\n",
            "        },\n",
            "        {\n",
            "          \"type\": \"null\"\n",
            "        }\n",
            "      ],\n",
            "      \"title\": \"Periodo Inicio\"\n",
            "    },\n",
            "    \"periodo_fin\": {\n",
            "      \"anyOf\": [\n",
            "        {\n",
            "          \"format\": \"date-time\",\n",
            "          \"type\": \"string\"\n",
            "        },\n",
            "        {\n",
            "          \"type\": \"null\"\n",
            "        }\n",
            "      ],\n",
            "      \"title\": \"Periodo Fin\"\n",
            "    },\n",
            "    \"consumo_total_kwh\": {\n",
            "      \"anyOf\": [\n",
            "        {\n",
            "          \"type\": \"number\"\n",
            "        },\n",
            "        {\n",
            "          \"type\": \"null\"\n",
            "        }\n",
            "      ],\n",
            "      \"title\": \"Consumo Total Kwh\"\n",
            "    },\n",
            "    \"potencia_punta_kw\": {\n",
            "      \"anyOf\": [\n",
            "        {\n",
            "          \"type\": \"number\"\n",
            "        },\n",
            "        {\n",
            "          \"type\": \"null\"\n",
            "        }\n",
            "      ],\n",
            "      \"title\": \"Potencia Punta Kw\"\n",
            "    },\n",
            "    \"potencia_valle_kw\": {\n",
            "      \"anyOf\": [\n",
            "        {\n",
            "          \"type\": \"number\"\n",
            "        },\n",
            "        {\n",
            "          \"type\": \"null\"\n",
            "        }\n",
            "      ],\n",
            "      \"title\": \"Potencia Valle Kw\"\n",
            "    },\n",
            "    \"importe_total\": {\n",
            "      \"anyOf\": [\n",
            "        {\n",
            "          \"type\": \"number\"\n",
            "        },\n",
            "        {\n",
            "          \"type\": \"null\"\n",
            "        }\n",
            "      ],\n",
            "      \"title\": \"Importe Total\"\n",
            "    }\n",
            "  },\n",
            "  \"required\": [\n",
            "    \"numero_factura\",\n",
            "    \"fecha_emision\",\n",
            "    \"periodo_inicio\",\n",
            "    \"periodo_fin\",\n",
            "    \"consumo_total_kwh\",\n",
            "    \"potencia_punta_kw\",\n",
            "    \"potencia_valle_kw\",\n",
            "    \"importe_total\"\n",
            "  ],\n",
            "  \"title\": \"FacturaElectrica\",\n",
            "  \"type\": \"object\"\n",
            "}\n"
          ]
        },
        {
          "output_type": "stream",
          "name": "stderr",
          "text": [
            "<ipython-input-5-21c62e08e257>:1: PydanticDeprecatedSince20: The `schema_json` method is deprecated; use `model_json_schema` and json.dumps instead. Deprecated in Pydantic V2.0 to be removed in V3.0. See Pydantic V2 Migration Guide at https://errors.pydantic.dev/2.11/migration/\n",
            "  esquema_json = FacturaElectrica.schema_json(indent=2)\n"
          ]
        }
      ],
      "source": [
        "esquema_json = FacturaElectrica.schema_json(indent=2)\n",
        "print(esquema_json)"
      ]
    },
    {
      "cell_type": "markdown",
      "id": "7bf5aa8a",
      "metadata": {
        "id": "7bf5aa8a"
      },
      "source": [
        "### 🧩 5. Fragmentación semántica y generación de embeddings"
      ]
    },
    {
      "cell_type": "code",
      "execution_count": 6,
      "id": "33afdb9e",
      "metadata": {
        "colab": {
          "base_uri": "https://localhost:8080/"
        },
        "id": "33afdb9e",
        "outputId": "1c45393f-5659-4dc5-bb3a-e06f1e03fc68"
      },
      "outputs": [
        {
          "output_type": "stream",
          "name": "stderr",
          "text": [
            "/usr/local/lib/python3.11/dist-packages/huggingface_hub/utils/_auth.py:94: UserWarning: \n",
            "The secret `HF_TOKEN` does not exist in your Colab secrets.\n",
            "To authenticate with the Hugging Face Hub, create a token in your settings tab (https://huggingface.co/settings/tokens), set it as secret in your Google Colab and restart your session.\n",
            "You will be able to reuse this secret in all of your notebooks.\n",
            "Please note that authentication is recommended but still optional to access public models or datasets.\n",
            "  warnings.warn(\n"
          ]
        }
      ],
      "source": [
        "import re\n",
        "from typing import List\n",
        "from sentence_transformers import SentenceTransformer\n",
        "\n",
        "# 📌 Cargar modelo de embeddings\n",
        "modelo_embeddings = SentenceTransformer(\"all-MiniLM-L6-v2\")\n",
        "\n",
        "# Nueva función para fragmentar texto por secciones específicas\n",
        "def chunk_por_secciones(texto: str, secciones: List[str]) -> List[str]:\n",
        "    # Crear patrón regex que detecte los títulos de secciones\n",
        "    patron = '|'.join([re.escape(sec) for sec in secciones])\n",
        "    indices = [m.start() for m in re.finditer(patron, texto)]\n",
        "    indices.append(len(texto))  # Para el último chunk\n",
        "\n",
        "    chunks = []\n",
        "    for i in range(len(indices)-1):\n",
        "        chunk = texto[indices[i]:indices[i+1]].strip()\n",
        "        if chunk:\n",
        "            chunks.append(chunk)\n",
        "    return chunks\n",
        "\n",
        "# Lista de secciones típicas en factura eléctrica\n",
        "secciones = [\n",
        "    \"Datos de la factura\",\n",
        "    \"Número de factura\",\n",
        "    \"Fecha de emisión\",\n",
        "    \"Periodo de facturación\",\n",
        "    \"Consumo eléctrico\",\n",
        "    \"Consumo total\",\n",
        "    \"Potencia contratada\",\n",
        "    \"Total\"\n",
        "]\n",
        "\n",
        "# Fragmentar el texto de la factura por secciones\n",
        "fragmentos = chunk_por_secciones(texto_factura, secciones)\n",
        "\n",
        "# 📌 Generar embeddings a partir de los fragmentos obtenidos\n",
        "embeddings = modelo_embeddings.encode(fragmentos, convert_to_tensor=False)\n"
      ]
    },
    {
      "cell_type": "markdown",
      "id": "468cc5fb",
      "metadata": {
        "id": "468cc5fb"
      },
      "source": [
        "### 🧩 5. Guardar embeddings en ChromaDB"
      ]
    },
    {
      "cell_type": "code",
      "execution_count": 7,
      "id": "2e31cab8",
      "metadata": {
        "colab": {
          "base_uri": "https://localhost:8080/"
        },
        "id": "2e31cab8",
        "outputId": "4941872d-489b-4c5c-e8a4-04087a5594da"
      },
      "outputs": [
        {
          "output_type": "stream",
          "name": "stdout",
          "text": [
            "Requirement already satisfied: chromadb in /usr/local/lib/python3.11/dist-packages (1.0.10)\n",
            "Requirement already satisfied: build>=1.0.3 in /usr/local/lib/python3.11/dist-packages (from chromadb) (1.2.2.post1)\n",
            "Requirement already satisfied: pydantic>=1.9 in /usr/local/lib/python3.11/dist-packages (from chromadb) (2.11.4)\n",
            "Requirement already satisfied: fastapi==0.115.9 in /usr/local/lib/python3.11/dist-packages (from chromadb) (0.115.9)\n",
            "Requirement already satisfied: uvicorn>=0.18.3 in /usr/local/lib/python3.11/dist-packages (from uvicorn[standard]>=0.18.3->chromadb) (0.34.2)\n",
            "Requirement already satisfied: numpy>=1.22.5 in /usr/local/lib/python3.11/dist-packages (from chromadb) (2.0.2)\n",
            "Requirement already satisfied: posthog>=2.4.0 in /usr/local/lib/python3.11/dist-packages (from chromadb) (4.2.0)\n",
            "Requirement already satisfied: typing-extensions>=4.5.0 in /usr/local/lib/python3.11/dist-packages (from chromadb) (4.13.2)\n",
            "Requirement already satisfied: onnxruntime>=1.14.1 in /usr/local/lib/python3.11/dist-packages (from chromadb) (1.22.0)\n",
            "Requirement already satisfied: opentelemetry-api>=1.2.0 in /usr/local/lib/python3.11/dist-packages (from chromadb) (1.33.1)\n",
            "Requirement already satisfied: opentelemetry-exporter-otlp-proto-grpc>=1.2.0 in /usr/local/lib/python3.11/dist-packages (from chromadb) (1.33.1)\n",
            "Requirement already satisfied: opentelemetry-instrumentation-fastapi>=0.41b0 in /usr/local/lib/python3.11/dist-packages (from chromadb) (0.54b1)\n",
            "Requirement already satisfied: opentelemetry-sdk>=1.2.0 in /usr/local/lib/python3.11/dist-packages (from chromadb) (1.33.1)\n",
            "Requirement already satisfied: tokenizers>=0.13.2 in /usr/local/lib/python3.11/dist-packages (from chromadb) (0.21.1)\n",
            "Requirement already satisfied: pypika>=0.48.9 in /usr/local/lib/python3.11/dist-packages (from chromadb) (0.48.9)\n",
            "Requirement already satisfied: tqdm>=4.65.0 in /usr/local/lib/python3.11/dist-packages (from chromadb) (4.67.1)\n",
            "Requirement already satisfied: overrides>=7.3.1 in /usr/local/lib/python3.11/dist-packages (from chromadb) (7.7.0)\n",
            "Requirement already satisfied: importlib-resources in /usr/local/lib/python3.11/dist-packages (from chromadb) (6.5.2)\n",
            "Requirement already satisfied: grpcio>=1.58.0 in /usr/local/lib/python3.11/dist-packages (from chromadb) (1.71.0)\n",
            "Requirement already satisfied: bcrypt>=4.0.1 in /usr/local/lib/python3.11/dist-packages (from chromadb) (4.3.0)\n",
            "Requirement already satisfied: typer>=0.9.0 in /usr/local/lib/python3.11/dist-packages (from chromadb) (0.15.3)\n",
            "Requirement already satisfied: kubernetes>=28.1.0 in /usr/local/lib/python3.11/dist-packages (from chromadb) (32.0.1)\n",
            "Requirement already satisfied: tenacity>=8.2.3 in /usr/local/lib/python3.11/dist-packages (from chromadb) (9.1.2)\n",
            "Requirement already satisfied: pyyaml>=6.0.0 in /usr/local/lib/python3.11/dist-packages (from chromadb) (6.0.2)\n",
            "Requirement already satisfied: mmh3>=4.0.1 in /usr/local/lib/python3.11/dist-packages (from chromadb) (5.1.0)\n",
            "Requirement already satisfied: orjson>=3.9.12 in /usr/local/lib/python3.11/dist-packages (from chromadb) (3.10.18)\n",
            "Requirement already satisfied: httpx>=0.27.0 in /usr/local/lib/python3.11/dist-packages (from chromadb) (0.28.1)\n",
            "Requirement already satisfied: rich>=10.11.0 in /usr/local/lib/python3.11/dist-packages (from chromadb) (13.9.4)\n",
            "Requirement already satisfied: jsonschema>=4.19.0 in /usr/local/lib/python3.11/dist-packages (from chromadb) (4.23.0)\n",
            "Requirement already satisfied: starlette<0.46.0,>=0.40.0 in /usr/local/lib/python3.11/dist-packages (from fastapi==0.115.9->chromadb) (0.45.3)\n",
            "Requirement already satisfied: packaging>=19.1 in /usr/local/lib/python3.11/dist-packages (from build>=1.0.3->chromadb) (24.2)\n",
            "Requirement already satisfied: pyproject_hooks in /usr/local/lib/python3.11/dist-packages (from build>=1.0.3->chromadb) (1.2.0)\n",
            "Requirement already satisfied: anyio in /usr/local/lib/python3.11/dist-packages (from httpx>=0.27.0->chromadb) (4.9.0)\n",
            "Requirement already satisfied: certifi in /usr/local/lib/python3.11/dist-packages (from httpx>=0.27.0->chromadb) (2025.4.26)\n",
            "Requirement already satisfied: httpcore==1.* in /usr/local/lib/python3.11/dist-packages (from httpx>=0.27.0->chromadb) (1.0.9)\n",
            "Requirement already satisfied: idna in /usr/local/lib/python3.11/dist-packages (from httpx>=0.27.0->chromadb) (3.10)\n",
            "Requirement already satisfied: h11>=0.16 in /usr/local/lib/python3.11/dist-packages (from httpcore==1.*->httpx>=0.27.0->chromadb) (0.16.0)\n",
            "Requirement already satisfied: attrs>=22.2.0 in /usr/local/lib/python3.11/dist-packages (from jsonschema>=4.19.0->chromadb) (25.3.0)\n",
            "Requirement already satisfied: jsonschema-specifications>=2023.03.6 in /usr/local/lib/python3.11/dist-packages (from jsonschema>=4.19.0->chromadb) (2025.4.1)\n",
            "Requirement already satisfied: referencing>=0.28.4 in /usr/local/lib/python3.11/dist-packages (from jsonschema>=4.19.0->chromadb) (0.36.2)\n",
            "Requirement already satisfied: rpds-py>=0.7.1 in /usr/local/lib/python3.11/dist-packages (from jsonschema>=4.19.0->chromadb) (0.25.1)\n",
            "Requirement already satisfied: six>=1.9.0 in /usr/local/lib/python3.11/dist-packages (from kubernetes>=28.1.0->chromadb) (1.17.0)\n",
            "Requirement already satisfied: python-dateutil>=2.5.3 in /usr/local/lib/python3.11/dist-packages (from kubernetes>=28.1.0->chromadb) (2.9.0.post0)\n",
            "Requirement already satisfied: google-auth>=1.0.1 in /usr/local/lib/python3.11/dist-packages (from kubernetes>=28.1.0->chromadb) (2.38.0)\n",
            "Requirement already satisfied: websocket-client!=0.40.0,!=0.41.*,!=0.42.*,>=0.32.0 in /usr/local/lib/python3.11/dist-packages (from kubernetes>=28.1.0->chromadb) (1.8.0)\n",
            "Requirement already satisfied: requests in /usr/local/lib/python3.11/dist-packages (from kubernetes>=28.1.0->chromadb) (2.32.3)\n",
            "Requirement already satisfied: requests-oauthlib in /usr/local/lib/python3.11/dist-packages (from kubernetes>=28.1.0->chromadb) (2.0.0)\n",
            "Requirement already satisfied: oauthlib>=3.2.2 in /usr/local/lib/python3.11/dist-packages (from kubernetes>=28.1.0->chromadb) (3.2.2)\n",
            "Requirement already satisfied: urllib3>=1.24.2 in /usr/local/lib/python3.11/dist-packages (from kubernetes>=28.1.0->chromadb) (2.4.0)\n",
            "Requirement already satisfied: durationpy>=0.7 in /usr/local/lib/python3.11/dist-packages (from kubernetes>=28.1.0->chromadb) (0.10)\n",
            "Requirement already satisfied: coloredlogs in /usr/local/lib/python3.11/dist-packages (from onnxruntime>=1.14.1->chromadb) (15.0.1)\n",
            "Requirement already satisfied: flatbuffers in /usr/local/lib/python3.11/dist-packages (from onnxruntime>=1.14.1->chromadb) (25.2.10)\n",
            "Requirement already satisfied: protobuf in /usr/local/lib/python3.11/dist-packages (from onnxruntime>=1.14.1->chromadb) (5.29.4)\n",
            "Requirement already satisfied: sympy in /usr/local/lib/python3.11/dist-packages (from onnxruntime>=1.14.1->chromadb) (1.13.1)\n",
            "Requirement already satisfied: deprecated>=1.2.6 in /usr/local/lib/python3.11/dist-packages (from opentelemetry-api>=1.2.0->chromadb) (1.2.18)\n",
            "Requirement already satisfied: importlib-metadata<8.7.0,>=6.0 in /usr/local/lib/python3.11/dist-packages (from opentelemetry-api>=1.2.0->chromadb) (8.6.1)\n",
            "Requirement already satisfied: googleapis-common-protos~=1.52 in /usr/local/lib/python3.11/dist-packages (from opentelemetry-exporter-otlp-proto-grpc>=1.2.0->chromadb) (1.70.0)\n",
            "Requirement already satisfied: opentelemetry-exporter-otlp-proto-common==1.33.1 in /usr/local/lib/python3.11/dist-packages (from opentelemetry-exporter-otlp-proto-grpc>=1.2.0->chromadb) (1.33.1)\n",
            "Requirement already satisfied: opentelemetry-proto==1.33.1 in /usr/local/lib/python3.11/dist-packages (from opentelemetry-exporter-otlp-proto-grpc>=1.2.0->chromadb) (1.33.1)\n",
            "Requirement already satisfied: opentelemetry-instrumentation-asgi==0.54b1 in /usr/local/lib/python3.11/dist-packages (from opentelemetry-instrumentation-fastapi>=0.41b0->chromadb) (0.54b1)\n",
            "Requirement already satisfied: opentelemetry-instrumentation==0.54b1 in /usr/local/lib/python3.11/dist-packages (from opentelemetry-instrumentation-fastapi>=0.41b0->chromadb) (0.54b1)\n",
            "Requirement already satisfied: opentelemetry-semantic-conventions==0.54b1 in /usr/local/lib/python3.11/dist-packages (from opentelemetry-instrumentation-fastapi>=0.41b0->chromadb) (0.54b1)\n",
            "Requirement already satisfied: opentelemetry-util-http==0.54b1 in /usr/local/lib/python3.11/dist-packages (from opentelemetry-instrumentation-fastapi>=0.41b0->chromadb) (0.54b1)\n",
            "Requirement already satisfied: wrapt<2.0.0,>=1.0.0 in /usr/local/lib/python3.11/dist-packages (from opentelemetry-instrumentation==0.54b1->opentelemetry-instrumentation-fastapi>=0.41b0->chromadb) (1.17.2)\n",
            "Requirement already satisfied: asgiref~=3.0 in /usr/local/lib/python3.11/dist-packages (from opentelemetry-instrumentation-asgi==0.54b1->opentelemetry-instrumentation-fastapi>=0.41b0->chromadb) (3.8.1)\n",
            "Requirement already satisfied: backoff>=1.10.0 in /usr/local/lib/python3.11/dist-packages (from posthog>=2.4.0->chromadb) (2.2.1)\n",
            "Requirement already satisfied: distro>=1.5.0 in /usr/local/lib/python3.11/dist-packages (from posthog>=2.4.0->chromadb) (1.9.0)\n",
            "Requirement already satisfied: annotated-types>=0.6.0 in /usr/local/lib/python3.11/dist-packages (from pydantic>=1.9->chromadb) (0.7.0)\n",
            "Requirement already satisfied: pydantic-core==2.33.2 in /usr/local/lib/python3.11/dist-packages (from pydantic>=1.9->chromadb) (2.33.2)\n",
            "Requirement already satisfied: typing-inspection>=0.4.0 in /usr/local/lib/python3.11/dist-packages (from pydantic>=1.9->chromadb) (0.4.1)\n",
            "Requirement already satisfied: markdown-it-py>=2.2.0 in /usr/local/lib/python3.11/dist-packages (from rich>=10.11.0->chromadb) (3.0.0)\n",
            "Requirement already satisfied: pygments<3.0.0,>=2.13.0 in /usr/local/lib/python3.11/dist-packages (from rich>=10.11.0->chromadb) (2.19.1)\n",
            "Requirement already satisfied: huggingface-hub<1.0,>=0.16.4 in /usr/local/lib/python3.11/dist-packages (from tokenizers>=0.13.2->chromadb) (0.31.4)\n",
            "Requirement already satisfied: click>=8.0.0 in /usr/local/lib/python3.11/dist-packages (from typer>=0.9.0->chromadb) (8.2.1)\n",
            "Requirement already satisfied: shellingham>=1.3.0 in /usr/local/lib/python3.11/dist-packages (from typer>=0.9.0->chromadb) (1.5.4)\n",
            "Requirement already satisfied: httptools>=0.6.3 in /usr/local/lib/python3.11/dist-packages (from uvicorn[standard]>=0.18.3->chromadb) (0.6.4)\n",
            "Requirement already satisfied: python-dotenv>=0.13 in /usr/local/lib/python3.11/dist-packages (from uvicorn[standard]>=0.18.3->chromadb) (1.1.0)\n",
            "Requirement already satisfied: uvloop!=0.15.0,!=0.15.1,>=0.14.0 in /usr/local/lib/python3.11/dist-packages (from uvicorn[standard]>=0.18.3->chromadb) (0.21.0)\n",
            "Requirement already satisfied: watchfiles>=0.13 in /usr/local/lib/python3.11/dist-packages (from uvicorn[standard]>=0.18.3->chromadb) (1.0.5)\n",
            "Requirement already satisfied: websockets>=10.4 in /usr/local/lib/python3.11/dist-packages (from uvicorn[standard]>=0.18.3->chromadb) (15.0.1)\n",
            "Requirement already satisfied: cachetools<6.0,>=2.0.0 in /usr/local/lib/python3.11/dist-packages (from google-auth>=1.0.1->kubernetes>=28.1.0->chromadb) (5.5.2)\n",
            "Requirement already satisfied: pyasn1-modules>=0.2.1 in /usr/local/lib/python3.11/dist-packages (from google-auth>=1.0.1->kubernetes>=28.1.0->chromadb) (0.4.2)\n",
            "Requirement already satisfied: rsa<5,>=3.1.4 in /usr/local/lib/python3.11/dist-packages (from google-auth>=1.0.1->kubernetes>=28.1.0->chromadb) (4.9.1)\n",
            "Requirement already satisfied: filelock in /usr/local/lib/python3.11/dist-packages (from huggingface-hub<1.0,>=0.16.4->tokenizers>=0.13.2->chromadb) (3.18.0)\n",
            "Requirement already satisfied: fsspec>=2023.5.0 in /usr/local/lib/python3.11/dist-packages (from huggingface-hub<1.0,>=0.16.4->tokenizers>=0.13.2->chromadb) (2025.3.2)\n",
            "Requirement already satisfied: zipp>=3.20 in /usr/local/lib/python3.11/dist-packages (from importlib-metadata<8.7.0,>=6.0->opentelemetry-api>=1.2.0->chromadb) (3.21.0)\n",
            "Requirement already satisfied: mdurl~=0.1 in /usr/local/lib/python3.11/dist-packages (from markdown-it-py>=2.2.0->rich>=10.11.0->chromadb) (0.1.2)\n",
            "Requirement already satisfied: charset-normalizer<4,>=2 in /usr/local/lib/python3.11/dist-packages (from requests->kubernetes>=28.1.0->chromadb) (3.4.2)\n",
            "Requirement already satisfied: sniffio>=1.1 in /usr/local/lib/python3.11/dist-packages (from anyio->httpx>=0.27.0->chromadb) (1.3.1)\n",
            "Requirement already satisfied: humanfriendly>=9.1 in /usr/local/lib/python3.11/dist-packages (from coloredlogs->onnxruntime>=1.14.1->chromadb) (10.0)\n",
            "Requirement already satisfied: mpmath<1.4,>=1.1.0 in /usr/local/lib/python3.11/dist-packages (from sympy->onnxruntime>=1.14.1->chromadb) (1.3.0)\n",
            "Requirement already satisfied: pyasn1<0.7.0,>=0.6.1 in /usr/local/lib/python3.11/dist-packages (from pyasn1-modules>=0.2.1->google-auth>=1.0.1->kubernetes>=28.1.0->chromadb) (0.6.1)\n"
          ]
        }
      ],
      "source": [
        "!pip install chromadb"
      ]
    },
    {
      "cell_type": "code",
      "execution_count": 8,
      "id": "c7d7bcb3",
      "metadata": {
        "colab": {
          "base_uri": "https://localhost:8080/"
        },
        "id": "c7d7bcb3",
        "outputId": "2561ff9e-6f2c-4806-c131-d3c6bb5a8172"
      },
      "outputs": [
        {
          "output_type": "stream",
          "name": "stdout",
          "text": [
            "Se han guardado 3 fragmentos en ChromaDB.\n"
          ]
        }
      ],
      "source": [
        "import chromadb\n",
        "\n",
        "# Inicializar el cliente de ChromaDB (almacenamiento local por defecto)\n",
        "client = chromadb.Client()\n",
        "\n",
        "# Crear o obtener una colección\n",
        "coleccion = client.get_or_create_collection(\"facturas_electricas\")\n",
        "\n",
        "# Guardar los embeddings y fragmentos en la colección\n",
        "ids = [f\"fragmento_{i}\" for i in range(len(fragmentos))]\n",
        "coleccion.add(\n",
        "    embeddings=embeddings.tolist(),\n",
        "    documents=fragmentos,\n",
        "    ids=ids\n",
        ")\n",
        "\n",
        "print(f\"Se han guardado {len(fragmentos)} fragmentos en ChromaDB.\")"
      ]
    },
    {
      "cell_type": "code",
      "execution_count": 9,
      "id": "dcb96a4e",
      "metadata": {
        "id": "dcb96a4e"
      },
      "outputs": [],
      "source": [
        "def buscar_contexto_chroma(pregunta: str, modelo_embedding, collection, top_k=3) -> str:\n",
        "    embedding = modelo_embedding.encode(pregunta).tolist()\n",
        "\n",
        "    resultados = collection.query(query_embeddings=[embedding], n_results=top_k)\n",
        "\n",
        "    if not resultados['documents'] or not resultados['documents'][0]:\n",
        "        return None\n",
        "\n",
        "    return \"\\n\".join(resultados['documents'][0])\n",
        "\n",
        "def responder_pregunta_con_together_chroma(pregunta):\n",
        "    contexto = buscar_contexto_chroma(pregunta, modelo_embeddings, coleccion)\n",
        "\n",
        "    if not contexto:\n",
        "        return \"No se encontró información relevante en los documentos cargados.\"\n",
        "\n",
        "    prompt = f\"\"\"Contesta la siguiente pregunta usando solo la información proporcionada en el contexto.\n",
        "Si no está en el contexto, responde que no tienes suficiente información.\n",
        "\n",
        "Contexto:\n",
        "{contexto}\n",
        "\n",
        "Pregunta: {pregunta}\n",
        "Respuesta:\"\"\"\n",
        "\n",
        "    response = requests.post(\n",
        "        \"https://api.together.xyz/v1/chat/completions\",\n",
        "        headers={\n",
        "            \"Authorization\": f\"Bearer {os.environ['TOGETHER_API_KEY']}\",\n",
        "            \"Content-Type\": \"application/json\"\n",
        "        },\n",
        "        json={\n",
        "            \"model\": \"mistralai/Mixtral-8x7B-Instruct-v0.1\",\n",
        "            \"messages\": [{\"role\": \"user\", \"content\": prompt}],\n",
        "            \"temperature\": 0.3,\n",
        "            \"max_tokens\": 512\n",
        "        }\n",
        "    )\n",
        "\n",
        "    if response.status_code == 200:\n",
        "        resultado = response.json()\n",
        "        return resultado[\"choices\"][0][\"message\"][\"content\"]\n",
        "    else:\n",
        "        return f\"Error al generar respuesta: {response.status_code} - {response.text}\"\n"
      ]
    },
    {
      "cell_type": "code",
      "source": [
        "respuesta = responder_pregunta_con_together_chroma(\"¿Cuál es el importe total en la factura?\")\n",
        "print(respuesta)\n"
      ],
      "metadata": {
        "colab": {
          "base_uri": "https://localhost:8080/"
        },
        "id": "bn_ADZGavCJy",
        "outputId": "c031df05-5e61-48d1-861e-56187e5c4ab7"
      },
      "id": "bn_ADZGavCJy",
      "execution_count": 10,
      "outputs": [
        {
          "output_type": "stream",
          "name": "stdout",
          "text": [
            " El importe total en la factura es de 41,92 €.\n"
          ]
        }
      ]
    },
    {
      "cell_type": "code",
      "source": [
        "respuesta = responder_pregunta_con_together_chroma(\"¿Cuál es el periodo de facturación?\")\n",
        "print(respuesta)"
      ],
      "metadata": {
        "colab": {
          "base_uri": "https://localhost:8080/"
        },
        "id": "v3rPFscuxhwM",
        "outputId": "cc68d53d-823e-4905-e232-53b722a2e706"
      },
      "id": "v3rPFscuxhwM",
      "execution_count": 11,
      "outputs": [
        {
          "output_type": "stream",
          "name": "stdout",
          "text": [
            " El periodo de facturación es del 31/12/2023 a 31/01/2024 (31 días).\n"
          ]
        }
      ]
    },
    {
      "cell_type": "code",
      "source": [
        "respuesta = responder_pregunta_con_together_chroma(\"¿Cual es el consumo eléctrico?\")\n",
        "print(respuesta)"
      ],
      "metadata": {
        "colab": {
          "base_uri": "https://localhost:8080/"
        },
        "id": "9p4QJcTdxpOw",
        "outputId": "da712656-572f-4696-8188-5ee09b20fb69"
      },
      "id": "9p4QJcTdxpOw",
      "execution_count": 12,
      "outputs": [
        {
          "output_type": "stream",
          "name": "stdout",
          "text": [
            "Error al generar respuesta: 429 - {\n",
            "  \"id\": \"nvmuhj2-4yUbBN-946913948e85dbbe\",\n",
            "  \"error\": {\n",
            "    \"message\": \"Request was rejected due to request rate limiting. Your rate limits are 60 RPM (1 QPS) and 60000 TPM (1000 TPS). See details: https://docs.together.ai/docs/rate-limits\",\n",
            "    \"type\": \"rate_limit\",\n",
            "    \"param\": null,\n",
            "    \"code\": null\n",
            "  }\n",
            "}\n"
          ]
        }
      ]
    },
    {
      "cell_type": "code",
      "source": [
        "respuesta = responder_pregunta_con_together_chroma(\"¿Cuál es el número de factura?\")\n",
        "print(respuesta)"
      ],
      "metadata": {
        "colab": {
          "base_uri": "https://localhost:8080/"
        },
        "id": "j3YMeltJx_JS",
        "outputId": "8f33e321-0ff0-497a-8143-e2cc22f3f164"
      },
      "id": "j3YMeltJx_JS",
      "execution_count": 13,
      "outputs": [
        {
          "output_type": "stream",
          "name": "stdout",
          "text": [
            "Error al generar respuesta: 429 - {\n",
            "  \"id\": \"nvmuhny-4yUbBN-94691395ed867d5e\",\n",
            "  \"error\": {\n",
            "    \"message\": \"Request was rejected due to request rate limiting. Your rate limits are 60 RPM (1 QPS) and 60000 TPM (1000 TPS). See details: https://docs.together.ai/docs/rate-limits\",\n",
            "    \"type\": \"rate_limit\",\n",
            "    \"param\": null,\n",
            "    \"code\": null\n",
            "  }\n",
            "}\n"
          ]
        }
      ]
    },
    {
      "cell_type": "code",
      "source": [
        "from pydantic import BaseModel\n",
        "from typing import Optional\n",
        "from datetime import datetime\n",
        "import json\n",
        "import re\n",
        "\n",
        "# 1. Clase Pydantic ajustada con campos opcionales\n",
        "class FacturaElectrica(BaseModel):\n",
        "    numero_factura: Optional[str]\n",
        "    fecha_emision: Optional[datetime]\n",
        "    periodo_inicio: Optional[datetime]\n",
        "    periodo_fin: Optional[datetime]\n",
        "    consumo_total_kwh: Optional[float]\n",
        "    potencia_punta_kw: Optional[float]\n",
        "    potencia_valle_kw: Optional[float]\n",
        "    importe_total: Optional[float]\n",
        "\n",
        "# 2. Función para extraer el primer bloque JSON de una cadena de texto\n",
        "def extraer_bloque_json(texto):\n",
        "    match = re.search(r\"\\{.*?\\}\", texto, re.DOTALL)\n",
        "    if match:\n",
        "        return match.group()\n",
        "    return None\n",
        "\n",
        "# 3. Prompt para solicitar los datos estructurados al LLM\n",
        "prompt_json = \"\"\"\n",
        "Extrae los siguientes datos de la factura eléctrica y devuélvelos en formato JSON válido.\n",
        "\n",
        "Devuelve el resultado en este formato JSON:\n",
        "\n",
        "{\n",
        "  \"numero_factura\" o \"Nº factura\": \"string\",\n",
        "  \"fecha_emision\": \"YYYY-MM-DD\",\n",
        "  \"periodo_inicio\": \"YYYY-MM-DD\",\n",
        "  \"periodo_fin\": \"YYYY-MM-DD\",\n",
        "  \"consumo_total_kwh\": float,\n",
        "  \"potencia_punta_kw\": float,\n",
        "  \"potencia_valle_kw\": float,\n",
        "  \"importe_total\": float\n",
        "}\n",
        "\n",
        "Usa solo los datos que estén claramente presentes. Si no aparece algún dato, indica \"No tengo suficiente información\".\n",
        "\n",
        "Devuelve exclusivamente el JSON, sin explicaciones.\n",
        "\"\"\"\n",
        "\n",
        "# 4. Obtener respuesta del sistema RAG\n",
        "respuesta_json_llm = responder_pregunta_con_together_chroma(prompt_json)\n",
        "\n",
        "# 5. Extraer y limpiar JSON antes de validar\n",
        "bloque_json = extraer_bloque_json(respuesta_json_llm)\n",
        "\n",
        "if bloque_json:\n",
        "    try:\n",
        "        datos = json.loads(bloque_json)\n",
        "\n",
        "        # Limpiar valores con \"No tengo suficiente información\"\n",
        "        for k, v in datos.items():\n",
        "            if isinstance(v, str) and \"no tengo\" in v.lower():\n",
        "                datos[k] = None\n",
        "\n",
        "        # 6. Validar con Pydantic\n",
        "        factura = FacturaElectrica(**datos)\n",
        "        print(\"✅ JSON válido y compatible con FacturaElectrica:\")\n",
        "        print(factura.model_dump_json(indent=2))\n",
        "\n",
        "    except Exception as e:\n",
        "        print(\"❌ Error al validar con Pydantic:\", e)\n",
        "        print(\"Contenido JSON:\", bloque_json)\n",
        "else:\n",
        "    print(\"❌ No se encontró un bloque JSON en la respuesta.\")\n"
      ],
      "metadata": {
        "id": "IorzAsGp4rKK",
        "outputId": "94d1910f-6cc7-4f75-e796-2871cb897899",
        "colab": {
          "base_uri": "https://localhost:8080/"
        }
      },
      "id": "IorzAsGp4rKK",
      "execution_count": 14,
      "outputs": [
        {
          "output_type": "stream",
          "name": "stdout",
          "text": [
            "✅ JSON válido y compatible con FacturaElectrica:\n",
            "{\n",
            "  \"numero_factura\": \"012294855257\",\n",
            "  \"fecha_emision\": \"2024-02-12T00:00:00\",\n",
            "  \"periodo_inicio\": \"2023-12-31T00:00:00\",\n",
            "  \"periodo_fin\": \"2024-01-31T00:00:00\",\n",
            "  \"consumo_total_kwh\": 64.257,\n",
            "  \"potencia_punta_kw\": 6.928,\n",
            "  \"potencia_valle_kw\": 6.928,\n",
            "  \"importe_total\": 41.92\n",
            "}\n"
          ]
        }
      ]
    },
    {
      "cell_type": "code",
      "source": [
        "# prompt: GENERAME UNA BATERIA DE PREGUNTAS SOBRE CUAL ES CADA UNO DE ESTOS PUNTOS\n",
        "#   \"numero_factura\": \"string\",\n",
        "#   \"fecha_emision\": \"YYYY-MM-DDTHH:MM:SS\",\n",
        "#   \"periodo_inicio\": \"YYYY-MM-DDTHH:MM:SS\",\n",
        "#   \"periodo_fin\": \"YYYY-MM-DDTHH:MM:SS\",\n",
        "#   \"consumo_total_kwh\": float,\n",
        "#   \"potencia_punta_kw\": float,\n",
        "#   \"potencia_valle_kw\": float,\n",
        "#   \"importe_total\": float\n",
        "# Y COMPARALO CON EL RESULTADO DEL JSON respuesta_json_llm\n",
        "\n",
        "esquema_pydantic = \"\"\"\n",
        "{\n",
        "  \"numero_factura\": \"string\",\n",
        "  \"fecha_emision\": \"YYYY-MM-DDTHH:MM:SS\",\n",
        "  \"periodo_inicio\": \"YYYY-MM-DDTHH:MM:SS\",\n",
        "  \"periodo_fin\": \"YYYY-MM-DDTHH:MM:SS\",\n",
        "  \"consumo_total_kwh\": \"float\",\n",
        "  \"potencia_punta_kw\": \"float\",\n",
        "  \"potencia_valle_kw\": \"float\",\n",
        "  \"importe_total\": \"float\"\n",
        "}\n",
        "\"\"\"\n",
        "\n",
        "def generar_preguntas_y_comparar(esquema_pydantic, respuesta_json_llm):\n",
        "    \"\"\"\n",
        "    Genera preguntas sobre cada campo del esquema Pydantic\n",
        "    y compara las respuestas del LLM con los valores extraídos.\n",
        "    \"\"\"\n",
        "    esquema_dict = json.loads(esquema_pydantic)\n",
        "    try:\n",
        "        respuesta_dict_llm = json.loads(respuesta_json_llm)\n",
        "        print(\"\\n--- Comparación de Valores Extraídos ---\")\n",
        "        for campo, tipo in esquema_dict.items():\n",
        "            pregunta = f\"¿Cuál es el valor del campo '{campo}'?\"\n",
        "            print(f\"\\nPregunta: {pregunta}\")\n",
        "\n",
        "            # Aquí podrías llamar al LLM con la pregunta si quisieras\n",
        "            # respuesta_llm_individual = responder_pregunta_con_together_chroma(pregunta)\n",
        "            # print(f\"Respuesta LLM individual: {respuesta_llm_individual}\")\n",
        "\n",
        "            valor_llm = respuesta_dict_llm.get(campo, \"N/A\")\n",
        "            print(f\"Valor extraído por el LLM (del JSON final): {valor_llm}\")\n",
        "\n",
        "            # En un escenario real, necesitarías tener los \"valores verdaderos\"\n",
        "            # para hacer una comparación objetiva. Aquí solo comparamos lo que el LLM\n",
        "            # extrajo en el JSON final con lo que \"debería\" haber extraído.\n",
        "            # Para una evaluación real, necesitarías una anotación manual de la factura.\n",
        "\n",
        "    except json.JSONDecodeError:\n",
        "        print(\"Error: La respuesta del LLM no es un JSON válido.\")\n",
        "    except Exception as e:\n",
        "        print(f\"Ocurrió un error: {e}\")\n",
        "\n",
        "# Llama a la función con tu esquema y la respuesta JSON del LLM\n",
        "generar_preguntas_y_comparar(esquema_pydantic, respuesta_json_llm)\n",
        "\n"
      ],
      "metadata": {
        "id": "xk88_oZ11ygZ",
        "outputId": "f4d8d5be-1b63-4f4b-84ae-fcb575aa99e1",
        "colab": {
          "base_uri": "https://localhost:8080/"
        }
      },
      "id": "xk88_oZ11ygZ",
      "execution_count": 23,
      "outputs": [
        {
          "output_type": "stream",
          "name": "stdout",
          "text": [
            "\n",
            "--- Comparación de Valores Extraídos ---\n",
            "\n",
            "Pregunta: ¿Cuál es el valor del campo 'numero_factura'?\n",
            "Valor extraído por el LLM (del JSON final): 012294855257\n",
            "\n",
            "Pregunta: ¿Cuál es el valor del campo 'fecha_emision'?\n",
            "Valor extraído por el LLM (del JSON final): 2024-02-12\n",
            "\n",
            "Pregunta: ¿Cuál es el valor del campo 'periodo_inicio'?\n",
            "Valor extraído por el LLM (del JSON final): 2023-12-31\n",
            "\n",
            "Pregunta: ¿Cuál es el valor del campo 'periodo_fin'?\n",
            "Valor extraído por el LLM (del JSON final): 2024-01-31\n",
            "\n",
            "Pregunta: ¿Cuál es el valor del campo 'consumo_total_kwh'?\n",
            "Valor extraído por el LLM (del JSON final): 64.257\n",
            "\n",
            "Pregunta: ¿Cuál es el valor del campo 'potencia_punta_kw'?\n",
            "Valor extraído por el LLM (del JSON final): 6.928\n",
            "\n",
            "Pregunta: ¿Cuál es el valor del campo 'potencia_valle_kw'?\n",
            "Valor extraído por el LLM (del JSON final): 6.928\n",
            "\n",
            "Pregunta: ¿Cuál es el valor del campo 'importe_total'?\n",
            "Valor extraído por el LLM (del JSON final): 41.92\n"
          ]
        }
      ]
    }
  ],
  "metadata": {
    "kernelspec": {
      "display_name": "Python 3",
      "name": "python3"
    },
    "language_info": {
      "codemirror_mode": {
        "name": "ipython",
        "version": 3
      },
      "file_extension": ".py",
      "mimetype": "text/x-python",
      "name": "python",
      "nbconvert_exporter": "python",
      "pygments_lexer": "ipython3",
      "version": "3.11.8"
    },
    "colab": {
      "provenance": [],
      "gpuType": "T4",
      "include_colab_link": true
    },
    "accelerator": "GPU"
  },
  "nbformat": 4,
  "nbformat_minor": 5
}