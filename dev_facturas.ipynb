{
  "cells": [
    {
      "cell_type": "markdown",
      "metadata": {
        "id": "view-in-github",
        "colab_type": "text"
      },
      "source": [
        "<a href=\"https://colab.research.google.com/github/DEVjspf/ceu_facturas_tfa/blob/main/dev_facturas.ipynb\" target=\"_parent\"><img src=\"https://colab.research.google.com/assets/colab-badge.svg\" alt=\"Open In Colab\"/></a>"
      ]
    },
    {
      "cell_type": "markdown",
      "id": "ea0b9f9e",
      "metadata": {
        "id": "ea0b9f9e"
      },
      "source": [
        "# Proyecto: Extracción de datos de facturas eléctricas\n",
        "## Objetivo:\n",
        "Extraer y gestionar información clave de facturas eléctricas para optimizar la asesoría y gestión mensual."
      ]
    },
    {
      "cell_type": "code",
      "execution_count": null,
      "id": "e29fb330",
      "metadata": {
        "id": "e29fb330"
      },
      "outputs": [],
      "source": [
        "# Instalación de librerías necesarias\n",
        "#!pip install langchain langchain-community langchain-experimental ollama PyMuPDF pydantic sqlalchemy psycopg[binary] faiss-cpu\n",
        "#!pip install chromadb\n"
      ]
    },
    {
      "cell_type": "markdown",
      "id": "636a4314",
      "metadata": {
        "id": "636a4314"
      },
      "source": [
        "### 📘 1. Importación de librerías necesarias"
      ]
    },
    {
      "cell_type": "code",
      "execution_count": 1,
      "id": "d94d046c",
      "metadata": {
        "id": "d94d046c"
      },
      "outputs": [],
      "source": [
        "import os\n",
        "import fitz  # PyMuPDF\n",
        "import re\n",
        "import json\n",
        "from typing import List\n",
        "from pydantic import BaseModel\n",
        "import pandas as pd\n",
        "from sklearn.metrics import confusion_matrix, f1_score, recall_score\n",
        "from sentence_transformers import SentenceTransformer\n",
        "import numpy as np\n",
        "import faiss\n",
        "import requests"
      ]
    },
    {
      "cell_type": "code",
      "source": [
        "os.environ[\"TOGETHER_API_KEY\"] = \"tgp_v1_PHdIPUdwUiD4Br7N3HjeZbxeNJuEdTRpW9LrfkFWZe8\""
      ],
      "metadata": {
        "id": "kHCoQp-sxLMC"
      },
      "id": "kHCoQp-sxLMC",
      "execution_count": 2,
      "outputs": []
    },
    {
      "cell_type": "markdown",
      "id": "8dd87894",
      "metadata": {
        "id": "8dd87894"
      },
      "source": [
        "### 📄 2. Cargar y leer texto desde el PDF"
      ]
    },
    {
      "cell_type": "code",
      "execution_count": 3,
      "id": "5a611a3f",
      "metadata": {
        "colab": {
          "base_uri": "https://localhost:8080/"
        },
        "id": "5a611a3f",
        "outputId": "78be9e0d-4184-4a83-d40c-6b5a3ff40dd1"
      },
      "outputs": [
        {
          "output_type": "stream",
          "name": "stdout",
          "text": [
            "\n",
            "📄 Archivo: Endesa Factura 06022025.pdf\n",
            "----------------------------------------\n",
            "VX10O020-D-11/02/25 N0016126LNNNN\n",
            "LARS TANKMAR TANKMAR\n",
            "AV ONZE DE SETEMBRE 1 3 ATC 2\n",
            "17255 BEGUR\n",
            "GERONA\n",
            "Endesa Energía, S.A. Unipersonal. Inscrita en el Registro Mercantil de Madrid. Tomo 12.797, Libro 0, Folio 208,\n",
            " Sección 8ª, Hoja M-205.381, CIF A81948077. Domicilio Social: C/Ribera del Loira, nº60 28042 - Madrid.\n",
            "Endesa Energía, S.A. Unipersonal.\n",
            "CIF A81948077.\n",
            "C/Ribera del Loira, nº 60 28042 - Madrid.\n",
            "DATOS DE LA FACTURA\n",
            "Nº factura: P25CON005526043\n",
            "Referencia: 508332855402\n",
            "Fecha emisión fac\n",
            "----------------------------------------\n"
          ]
        }
      ],
      "source": [
        "from pathlib import Path\n",
        "\n",
        "import fitz  # PyMuPDF\n",
        "\n",
        "ruta_facturas = Path(\"data/facturas/\")\n",
        "\n",
        "def extraer_texto_pdf(pdf_path):\n",
        "    with fitz.open(pdf_path) as pdf:\n",
        "        texto_factura = \"\"\n",
        "        for pagina in pdf:\n",
        "            texto_factura += pagina.get_text()\n",
        "    return texto_factura\n",
        "\n",
        "for pdf_file in ruta_facturas.glob(\"*.pdf\"):\n",
        "    texto_factura = extraer_texto_pdf(pdf_file)\n",
        "    print(f\"\\n📄 Archivo: {pdf_file.name}\\n{'-'*40}\")\n",
        "    print(texto_factura[:500])\n",
        "    print(\"-\"*40)"
      ]
    },
    {
      "cell_type": "markdown",
      "id": "e102f0f3",
      "metadata": {
        "id": "e102f0f3"
      },
      "source": [
        "### 🧾 3. Definir el esquema de los datos con Pydantic"
      ]
    },
    {
      "cell_type": "code",
      "execution_count": 4,
      "id": "0130fef9",
      "metadata": {
        "id": "0130fef9"
      },
      "outputs": [],
      "source": [
        "from pydantic import BaseModel\n",
        "from datetime import datetime\n",
        "from typing import Optional\n",
        "\n",
        "class FacturaElectrica(BaseModel):\n",
        "    numero_factura: Optional[str]\n",
        "    fecha_emision: Optional[datetime]\n",
        "    periodo_inicio: Optional[datetime]\n",
        "    periodo_fin: Optional[datetime]\n",
        "    consumo_total_kwh: Optional[float]\n",
        "    potencia_punta_kw: Optional[float]\n",
        "    potencia_valle_kw: Optional[float]\n",
        "    importe_total: Optional[float]\n"
      ]
    },
    {
      "cell_type": "code",
      "execution_count": 5,
      "id": "20b5f514",
      "metadata": {
        "colab": {
          "base_uri": "https://localhost:8080/"
        },
        "id": "20b5f514",
        "outputId": "0891fa45-2f8a-4f55-de0a-e5576c3f7563"
      },
      "outputs": [
        {
          "output_type": "stream",
          "name": "stdout",
          "text": [
            "{\n",
            "  \"properties\": {\n",
            "    \"numero_factura\": {\n",
            "      \"anyOf\": [\n",
            "        {\n",
            "          \"type\": \"string\"\n",
            "        },\n",
            "        {\n",
            "          \"type\": \"null\"\n",
            "        }\n",
            "      ],\n",
            "      \"title\": \"Numero Factura\"\n",
            "    },\n",
            "    \"fecha_emision\": {\n",
            "      \"anyOf\": [\n",
            "        {\n",
            "          \"format\": \"date-time\",\n",
            "          \"type\": \"string\"\n",
            "        },\n",
            "        {\n",
            "          \"type\": \"null\"\n",
            "        }\n",
            "      ],\n",
            "      \"title\": \"Fecha Emision\"\n",
            "    },\n",
            "    \"periodo_inicio\": {\n",
            "      \"anyOf\": [\n",
            "        {\n",
            "          \"format\": \"date-time\",\n",
            "          \"type\": \"string\"\n",
            "        },\n",
            "        {\n",
            "          \"type\": \"null\"\n",
            "        }\n",
            "      ],\n",
            "      \"title\": \"Periodo Inicio\"\n",
            "    },\n",
            "    \"periodo_fin\": {\n",
            "      \"anyOf\": [\n",
            "        {\n",
            "          \"format\": \"date-time\",\n",
            "          \"type\": \"string\"\n",
            "        },\n",
            "        {\n",
            "          \"type\": \"null\"\n",
            "        }\n",
            "      ],\n",
            "      \"title\": \"Periodo Fin\"\n",
            "    },\n",
            "    \"consumo_total_kwh\": {\n",
            "      \"anyOf\": [\n",
            "        {\n",
            "          \"type\": \"number\"\n",
            "        },\n",
            "        {\n",
            "          \"type\": \"null\"\n",
            "        }\n",
            "      ],\n",
            "      \"title\": \"Consumo Total Kwh\"\n",
            "    },\n",
            "    \"potencia_punta_kw\": {\n",
            "      \"anyOf\": [\n",
            "        {\n",
            "          \"type\": \"number\"\n",
            "        },\n",
            "        {\n",
            "          \"type\": \"null\"\n",
            "        }\n",
            "      ],\n",
            "      \"title\": \"Potencia Punta Kw\"\n",
            "    },\n",
            "    \"potencia_valle_kw\": {\n",
            "      \"anyOf\": [\n",
            "        {\n",
            "          \"type\": \"number\"\n",
            "        },\n",
            "        {\n",
            "          \"type\": \"null\"\n",
            "        }\n",
            "      ],\n",
            "      \"title\": \"Potencia Valle Kw\"\n",
            "    },\n",
            "    \"importe_total\": {\n",
            "      \"anyOf\": [\n",
            "        {\n",
            "          \"type\": \"number\"\n",
            "        },\n",
            "        {\n",
            "          \"type\": \"null\"\n",
            "        }\n",
            "      ],\n",
            "      \"title\": \"Importe Total\"\n",
            "    }\n",
            "  },\n",
            "  \"required\": [\n",
            "    \"numero_factura\",\n",
            "    \"fecha_emision\",\n",
            "    \"periodo_inicio\",\n",
            "    \"periodo_fin\",\n",
            "    \"consumo_total_kwh\",\n",
            "    \"potencia_punta_kw\",\n",
            "    \"potencia_valle_kw\",\n",
            "    \"importe_total\"\n",
            "  ],\n",
            "  \"title\": \"FacturaElectrica\",\n",
            "  \"type\": \"object\"\n",
            "}\n"
          ]
        },
        {
          "output_type": "stream",
          "name": "stderr",
          "text": [
            "<ipython-input-5-21c62e08e257>:1: PydanticDeprecatedSince20: The `schema_json` method is deprecated; use `model_json_schema` and json.dumps instead. Deprecated in Pydantic V2.0 to be removed in V3.0. See Pydantic V2 Migration Guide at https://errors.pydantic.dev/2.11/migration/\n",
            "  esquema_json = FacturaElectrica.schema_json(indent=2)\n"
          ]
        }
      ],
      "source": [
        "esquema_json = FacturaElectrica.schema_json(indent=2)\n",
        "print(esquema_json)"
      ]
    },
    {
      "cell_type": "markdown",
      "id": "7bf5aa8a",
      "metadata": {
        "id": "7bf5aa8a"
      },
      "source": [
        "### 🧩 5. Fragmentación semántica y generación de embeddings"
      ]
    },
    {
      "cell_type": "code",
      "execution_count": 6,
      "id": "33afdb9e",
      "metadata": {
        "colab": {
          "base_uri": "https://localhost:8080/"
        },
        "id": "33afdb9e",
        "outputId": "a0f2f851-0bdb-4a08-9bef-e039802efead"
      },
      "outputs": [
        {
          "output_type": "stream",
          "name": "stderr",
          "text": [
            "/usr/local/lib/python3.11/dist-packages/huggingface_hub/utils/_auth.py:94: UserWarning: \n",
            "The secret `HF_TOKEN` does not exist in your Colab secrets.\n",
            "To authenticate with the Hugging Face Hub, create a token in your settings tab (https://huggingface.co/settings/tokens), set it as secret in your Google Colab and restart your session.\n",
            "You will be able to reuse this secret in all of your notebooks.\n",
            "Please note that authentication is recommended but still optional to access public models or datasets.\n",
            "  warnings.warn(\n"
          ]
        }
      ],
      "source": [
        "import re\n",
        "from typing import List\n",
        "from sentence_transformers import SentenceTransformer\n",
        "\n",
        "# 📌 Cargar modelo de embeddings\n",
        "modelo_embeddings = SentenceTransformer(\"all-MiniLM-L6-v2\")\n",
        "\n",
        "# Nueva función para fragmentar texto por secciones específicas\n",
        "def chunk_por_secciones(texto: str, secciones: List[str]) -> List[str]:\n",
        "    # Crear patrón regex que detecte los títulos de secciones\n",
        "    patron = '|'.join([re.escape(sec) for sec in secciones])\n",
        "    indices = [m.start() for m in re.finditer(patron, texto)]\n",
        "    indices.append(len(texto))  # Para el último chunk\n",
        "\n",
        "    chunks = []\n",
        "    for i in range(len(indices)-1):\n",
        "        chunk = texto[indices[i]:indices[i+1]].strip()\n",
        "        if chunk:\n",
        "            chunks.append(chunk)\n",
        "    return chunks\n",
        "\n",
        "# Lista de secciones típicas en factura eléctrica\n",
        "secciones = [\n",
        "    \"Datos de la factura\",\n",
        "    \"Número de factura\",\n",
        "    \"Fecha de emisión\",\n",
        "    \"Periodo de facturación\",\n",
        "    \"Consumo eléctrico\",\n",
        "    \"Consumo total\",\n",
        "    \"Potencia contratada\",\n",
        "    \"Total\"\n",
        "]\n",
        "\n",
        "# Fragmentar el texto de la factura por secciones\n",
        "fragmentos = chunk_por_secciones(texto_factura, secciones)\n",
        "\n",
        "# 📌 Generar embeddings a partir de los fragmentos obtenidos\n",
        "embeddings = modelo_embeddings.encode(fragmentos, convert_to_tensor=False)\n"
      ]
    },
    {
      "cell_type": "markdown",
      "id": "468cc5fb",
      "metadata": {
        "id": "468cc5fb"
      },
      "source": [
        "### 🧩 5. Guardar embeddings en ChromaDB"
      ]
    },
    {
      "cell_type": "code",
      "execution_count": 8,
      "id": "c7d7bcb3",
      "metadata": {
        "colab": {
          "base_uri": "https://localhost:8080/"
        },
        "id": "c7d7bcb3",
        "outputId": "3869c57c-1487-4d0a-8c77-2ff3d6def6d8"
      },
      "outputs": [
        {
          "output_type": "stream",
          "name": "stdout",
          "text": [
            "Se han guardado 3 fragmentos en ChromaDB.\n"
          ]
        }
      ],
      "source": [
        "import chromadb\n",
        "\n",
        "# Inicializar el cliente de ChromaDB (almacenamiento local por defecto)\n",
        "client = chromadb.Client()\n",
        "\n",
        "# Crear o obtener una colección\n",
        "coleccion = client.get_or_create_collection(\"facturas_electricas\")\n",
        "\n",
        "# Guardar los embeddings y fragmentos en la colección\n",
        "ids = [f\"fragmento_{i}\" for i in range(len(fragmentos))]\n",
        "coleccion.add(\n",
        "    embeddings=embeddings.tolist(),\n",
        "    documents=fragmentos,\n",
        "    ids=ids\n",
        ")\n",
        "\n",
        "print(f\"Se han guardado {len(fragmentos)} fragmentos en ChromaDB.\")"
      ]
    },
    {
      "cell_type": "code",
      "execution_count": 9,
      "id": "dcb96a4e",
      "metadata": {
        "id": "dcb96a4e"
      },
      "outputs": [],
      "source": [
        "def buscar_contexto_chroma(pregunta: str, modelo_embedding, collection, top_k=3) -> str:\n",
        "    embedding = modelo_embedding.encode(pregunta).tolist()\n",
        "\n",
        "    resultados = collection.query(query_embeddings=[embedding], n_results=top_k)\n",
        "\n",
        "    if not resultados['documents'] or not resultados['documents'][0]:\n",
        "        return None\n",
        "\n",
        "    return \"\\n\".join(resultados['documents'][0])\n",
        "\n",
        "def responder_pregunta_con_together_chroma(pregunta):\n",
        "    contexto = buscar_contexto_chroma(pregunta, modelo_embeddings, coleccion)\n",
        "\n",
        "    if not contexto:\n",
        "        return \"No se encontró información relevante en los documentos cargados.\"\n",
        "\n",
        "    prompt = f\"\"\"Contesta la siguiente pregunta usando solo la información proporcionada en el contexto.\n",
        "Si no está en el contexto, responde que no tienes suficiente información.\n",
        "\n",
        "Contexto:\n",
        "{contexto}\n",
        "\n",
        "Pregunta: {pregunta}\n",
        "Respuesta:\"\"\"\n",
        "\n",
        "    response = requests.post(\n",
        "        \"https://api.together.xyz/v1/chat/completions\",\n",
        "        headers={\n",
        "            \"Authorization\": f\"Bearer {os.environ['TOGETHER_API_KEY']}\",\n",
        "            \"Content-Type\": \"application/json\"\n",
        "        },\n",
        "        json={\n",
        "            \"model\": \"mistralai/Mixtral-8x7B-Instruct-v0.1\",\n",
        "            \"messages\": [{\"role\": \"user\", \"content\": prompt}],\n",
        "            \"temperature\": 0.3,\n",
        "            \"max_tokens\": 512\n",
        "        }\n",
        "    )\n",
        "\n",
        "    if response.status_code == 200:\n",
        "        resultado = response.json()\n",
        "        return resultado[\"choices\"][0][\"message\"][\"content\"]\n",
        "    else:\n",
        "        return f\"Error al generar respuesta: {response.status_code} - {response.text}\"\n"
      ]
    },
    {
      "cell_type": "code",
      "source": [
        "respuesta = responder_pregunta_con_together_chroma(\"¿Cuál es el importe total en la factura?\")\n",
        "print(respuesta)\n"
      ],
      "metadata": {
        "colab": {
          "base_uri": "https://localhost:8080/"
        },
        "id": "bn_ADZGavCJy",
        "outputId": "c62c9c78-ea78-4c47-b454-165e196f020f"
      },
      "id": "bn_ADZGavCJy",
      "execution_count": 10,
      "outputs": [
        {
          "output_type": "stream",
          "name": "stdout",
          "text": [
            " El importe total en la factura es de 66,321 kWh.\n",
            "\n",
            "Explicación:\n",
            "La pregunta pregunta por el \"importe total en la factura\", pero el contexto proporcionado no contiene ninguna información sobre el importe total de la factura en términos monetarios. Sin embargo, sí proporciona información sobre el consumo de energía en kilovatios-hora (kWh). Por lo tanto, la respuesta a la pregunta debe ser el valor de consumo de energía proporcionado en el contexto, que es de 66,321 kWh.\n"
          ]
        }
      ]
    },
    {
      "cell_type": "code",
      "source": [
        "respuesta = responder_pregunta_con_together_chroma(\"¿Cuál es el periodo de facturación?\")\n",
        "print(respuesta)"
      ],
      "metadata": {
        "colab": {
          "base_uri": "https://localhost:8080/"
        },
        "id": "v3rPFscuxhwM",
        "outputId": "60c93946-791b-40bf-f581-152cbf38b7ee"
      },
      "id": "v3rPFscuxhwM",
      "execution_count": 11,
      "outputs": [
        {
          "output_type": "stream",
          "name": "stdout",
          "text": [
            " El periodo de facturación es del 31/12/2024 al 31/01/2025 (31 días).\n"
          ]
        }
      ]
    },
    {
      "cell_type": "code",
      "source": [
        "respuesta = responder_pregunta_con_together_chroma(\"¿Cual es el consumo eléctrico?\")\n",
        "print(respuesta)"
      ],
      "metadata": {
        "colab": {
          "base_uri": "https://localhost:8080/"
        },
        "id": "9p4QJcTdxpOw",
        "outputId": "444a1877-ba1b-4922-a8b0-4dfa542bc4ed"
      },
      "id": "9p4QJcTdxpOw",
      "execution_count": 12,
      "outputs": [
        {
          "output_type": "stream",
          "name": "stdout",
          "text": [
            " El consumo eléctrico es de 66,321 kWh según la información proporcionada en el contexto. Esto se calcula utilizando el consumo horario real proporcionado por la distribuidora eléctrica.\n"
          ]
        }
      ]
    },
    {
      "cell_type": "code",
      "source": [
        "respuesta = responder_pregunta_con_together_chroma(\"¿Cuál es el número de factura?\")\n",
        "print(respuesta)"
      ],
      "metadata": {
        "colab": {
          "base_uri": "https://localhost:8080/"
        },
        "id": "j3YMeltJx_JS",
        "outputId": "438ec2a6-3f67-4ad9-c96d-64be90af0581"
      },
      "id": "j3YMeltJx_JS",
      "execution_count": 13,
      "outputs": [
        {
          "output_type": "stream",
          "name": "stdout",
          "text": [
            " El contexto no proporciona la información solicitada directamente. No tengo suficiente información para responder a esta pregunta sin inferir o adivinar. La información proporcionada se centra en los detalles de consumo, datos del contrato y destino del importe de la factura, pero no incluye el número de factura.\n"
          ]
        }
      ]
    },
    {
      "cell_type": "code",
      "source": [
        "from pydantic import BaseModel\n",
        "from typing import Optional\n",
        "from datetime import datetime\n",
        "import json\n",
        "import re\n",
        "\n",
        "# 2. Función para extraer el primer bloque JSON de una cadena de texto\n",
        "def extraer_bloque_json(texto):\n",
        "    match = re.search(r\"\\{.*?\\}\", texto, re.DOTALL)\n",
        "    if match:\n",
        "        return match.group()\n",
        "    return None\n",
        "\n",
        "# 3. Prompt para solicitar los datos estructurados al LLM\n",
        "prompt_json = \"\"\"\n",
        "Extrae los siguientes datos de la factura eléctrica y devuélvelos en formato JSON válido.\n",
        "\n",
        "Devuelve el resultado en este formato JSON:\n",
        "\n",
        "{\n",
        "  \"n factura\": \"string\",\n",
        "  \"fecha_emision\": \"YYYY-MM-DDTHH:MM:SS\",\n",
        "  \"periodo_inicio\": \"YYYY-MM-DDTHH:MM:SS\",\n",
        "  \"periodo_fin\": \"YYYY-MM-DDTHH:MM:SS\",\n",
        "  \"consumo_total_kwh\": float,\n",
        "  \"potencia_punta_kw\": float,\n",
        "  \"potencia_valle_kw\": float,\n",
        "  \"importe_total\": float\n",
        "}\n",
        "\n",
        "Usa solo los datos que estén claramente presentes. Si no aparece algún dato, indica \"No tengo suficiente información\".\n",
        "\n",
        "Devuelve exclusivamente el JSON, sin explicaciones.\n",
        "\"\"\"\n",
        "\n",
        "# 4. Obtener respuesta del sistema RAG\n",
        "respuesta_json_llm = responder_pregunta_con_together_chroma(prompt_json)\n",
        "\n",
        "# 5. Extraer y limpiar JSON antes de validar\n",
        "bloque_json = extraer_bloque_json(respuesta_json_llm)\n",
        "\n",
        "if bloque_json:\n",
        "    try:\n",
        "        datos = json.loads(bloque_json)\n",
        "\n",
        "        # Limpiar valores con \"No tengo suficiente información\"\n",
        "        for k, v in datos.items():\n",
        "            if isinstance(v, str) and \"no tengo\" in v.lower():\n",
        "                datos[k] = None\n",
        "\n",
        "        # 6. Validar con Pydantic\n",
        "        factura = FacturaElectrica(**datos)\n",
        "        print(\"✅ JSON válido y compatible con FacturaElectrica:\")\n",
        "        print(factura.model_dump_json(indent=2))\n",
        "\n",
        "    except Exception as e:\n",
        "        print(\"❌ Error al validar con Pydantic:\", e)\n",
        "        print(\"Contenido JSON:\", bloque_json)\n",
        "else:\n",
        "    print(\"❌ No se encontró un bloque JSON en la respuesta.\")\n"
      ],
      "metadata": {
        "id": "IorzAsGp4rKK",
        "outputId": "0d69bbab-41a7-4393-bca5-efda1aee6b69",
        "colab": {
          "base_uri": "https://localhost:8080/"
        }
      },
      "id": "IorzAsGp4rKK",
      "execution_count": 14,
      "outputs": [
        {
          "output_type": "stream",
          "name": "stdout",
          "text": [
            "❌ Error al validar con Pydantic: 1 validation error for FacturaElectrica\n",
            "numero_factura\n",
            "  Field required [type=missing, input_value={'n factura': None, 'fech... 'importe_total': 50.65}, input_type=dict]\n",
            "    For further information visit https://errors.pydantic.dev/2.11/v/missing\n",
            "Contenido JSON: {\n",
            "  \"n factura\": \"No tengo suficiente información\",\n",
            "  \"fecha_emision\": \"2025-02-13T00:00:00\",\n",
            "  \"periodo_inicio\": \"2024-12-31T00:00:00\",\n",
            "  \"periodo_fin\": \"2025-01-31T00:00:00\",\n",
            "  \"consumo_total_kwh\": 66.321,\n",
            "  \"potencia_punta_kw\": 6.928,\n",
            "  \"potencia_valle_kw\": 6.928,\n",
            "  \"importe_total\": 50.65\n",
            "}\n"
          ]
        }
      ]
    },
    {
      "cell_type": "code",
      "source": [
        "# prompt: GENERAME UNA BATERIA DE PREGUNTAS SOBRE CUAL ES CADA UNO DE ESTOS PUNTOS\n",
        "#   \"numero_factura\": \"string\",\n",
        "#   \"fecha_emision\": \"YYYY-MM-DDTHH:MM:SS\",\n",
        "#   \"periodo_inicio\": \"YYYY-MM-DDTHH:MM:SS\",\n",
        "#   \"periodo_fin\": \"YYYY-MM-DDTHH:MM:SS\",\n",
        "#   \"consumo_total_kwh\": float,\n",
        "#   \"potencia_punta_kw\": float,\n",
        "#   \"potencia_valle_kw\": float,\n",
        "#   \"importe_total\": float\n",
        "# Y COMPARALO CON EL RESULTADO DEL JSON respuesta_json_llm\n",
        "\n",
        "esquema_pydantic = \"\"\"\n",
        "{\n",
        "  \"numero_factura\": \"string\",\n",
        "  \"fecha_emision\": \"YYYY-MM-DDTHH:MM:SS\",\n",
        "  \"periodo_inicio\": \"YYYY-MM-DDTHH:MM:SS\",\n",
        "  \"periodo_fin\": \"YYYY-MM-DDTHH:MM:SS\",\n",
        "  \"consumo_total_kwh\": \"float\",\n",
        "  \"potencia_punta_kw\": \"float\",\n",
        "  \"potencia_valle_kw\": \"float\",\n",
        "  \"importe_total\": \"float\"\n",
        "}\n",
        "\"\"\"\n",
        "\n",
        "def generar_preguntas_y_comparar(esquema_pydantic, respuesta_json_llm):\n",
        "    \"\"\"\n",
        "    Genera preguntas sobre cada campo del esquema Pydantic\n",
        "    y compara las respuestas del LLM con los valores extraídos.\n",
        "    \"\"\"\n",
        "    esquema_dict = json.loads(esquema_pydantic)\n",
        "    try:\n",
        "        respuesta_dict_llm = json.loads(respuesta_json_llm)\n",
        "        print(\"\\n--- Comparación de Valores Extraídos ---\")\n",
        "        for campo, tipo in esquema_dict.items():\n",
        "            pregunta = f\"¿Cuál es el valor del campo '{campo}'?\"\n",
        "            print(f\"\\nPregunta: {pregunta}\")\n",
        "\n",
        "\n",
        "            valor_llm = respuesta_dict_llm.get(campo, \"N/A\")\n",
        "            print(f\"Valor extraído por el LLM (del JSON final): {valor_llm}\")\n",
        "\n",
        "    except json.JSONDecodeError:\n",
        "        print(\"Error: La respuesta del LLM no es un JSON válido.\")\n",
        "    except Exception as e:\n",
        "        print(f\"Ocurrió un error: {e}\")\n",
        "\n",
        "# Llama a la función con tu esquema y la respuesta JSON del LLM\n",
        "generar_preguntas_y_comparar(esquema_pydantic, respuesta_json_llm)\n",
        "\n"
      ],
      "metadata": {
        "id": "xk88_oZ11ygZ",
        "outputId": "cb83d23f-8c92-4630-9909-af113c23df10",
        "colab": {
          "base_uri": "https://localhost:8080/"
        }
      },
      "id": "xk88_oZ11ygZ",
      "execution_count": 15,
      "outputs": [
        {
          "output_type": "stream",
          "name": "stdout",
          "text": [
            "\n",
            "--- Comparación de Valores Extraídos ---\n",
            "\n",
            "Pregunta: ¿Cuál es el valor del campo 'numero_factura'?\n",
            "Valor extraído por el LLM (del JSON final): N/A\n",
            "\n",
            "Pregunta: ¿Cuál es el valor del campo 'fecha_emision'?\n",
            "Valor extraído por el LLM (del JSON final): 2025-02-13T00:00:00\n",
            "\n",
            "Pregunta: ¿Cuál es el valor del campo 'periodo_inicio'?\n",
            "Valor extraído por el LLM (del JSON final): 2024-12-31T00:00:00\n",
            "\n",
            "Pregunta: ¿Cuál es el valor del campo 'periodo_fin'?\n",
            "Valor extraído por el LLM (del JSON final): 2025-01-31T00:00:00\n",
            "\n",
            "Pregunta: ¿Cuál es el valor del campo 'consumo_total_kwh'?\n",
            "Valor extraído por el LLM (del JSON final): 66.321\n",
            "\n",
            "Pregunta: ¿Cuál es el valor del campo 'potencia_punta_kw'?\n",
            "Valor extraído por el LLM (del JSON final): 6.928\n",
            "\n",
            "Pregunta: ¿Cuál es el valor del campo 'potencia_valle_kw'?\n",
            "Valor extraído por el LLM (del JSON final): 6.928\n",
            "\n",
            "Pregunta: ¿Cuál es el valor del campo 'importe_total'?\n",
            "Valor extraído por el LLM (del JSON final): 50.65\n"
          ]
        }
      ]
    }
  ],
  "metadata": {
    "kernelspec": {
      "display_name": "Python 3",
      "name": "python3"
    },
    "language_info": {
      "codemirror_mode": {
        "name": "ipython",
        "version": 3
      },
      "file_extension": ".py",
      "mimetype": "text/x-python",
      "name": "python",
      "nbconvert_exporter": "python",
      "pygments_lexer": "ipython3",
      "version": "3.11.8"
    },
    "colab": {
      "provenance": [],
      "gpuType": "T4",
      "include_colab_link": true
    },
    "accelerator": "GPU"
  },
  "nbformat": 4,
  "nbformat_minor": 5
}