{
 "cells": [
  {
   "cell_type": "markdown",
   "id": "ea0b9f9e",
   "metadata": {},
   "source": [
    "# Proyecto: Extracción de datos de facturas eléctricas\n",
    "## Objetivo:\n",
    "Extraer y gestionar información clave de facturas eléctricas para optimizar la asesoría y gestión mensual."
   ]
  },
  {
   "cell_type": "code",
   "execution_count": null,
   "id": "e29fb330",
   "metadata": {},
   "outputs": [],
   "source": [
    "# Instalación de librerías necesarias\n",
    "#!pip install langchain langchain-community langchain-experimental ollama PyMuPDF pydantic sqlalchemy psycopg[binary] faiss-cpu\n"
   ]
  },
  {
   "cell_type": "markdown",
   "id": "636a4314",
   "metadata": {},
   "source": [
    "### 📘 1. Importación de librerías necesarias"
   ]
  },
  {
   "cell_type": "code",
   "execution_count": 1,
   "id": "d94d046c",
   "metadata": {},
   "outputs": [
    {
     "name": "stderr",
     "output_type": "stream",
     "text": [
      "/opt/anaconda3/envs/tfa_prompt/lib/python3.11/site-packages/tqdm/auto.py:21: TqdmWarning: IProgress not found. Please update jupyter and ipywidgets. See https://ipywidgets.readthedocs.io/en/stable/user_install.html\n",
      "  from .autonotebook import tqdm as notebook_tqdm\n"
     ]
    }
   ],
   "source": [
    "import os\n",
    "import fitz  # PyMuPDF\n",
    "import re\n",
    "import json\n",
    "from typing import List\n",
    "from pydantic import BaseModel\n",
    "import pandas as pd\n",
    "from sklearn.metrics import confusion_matrix, f1_score, recall_score\n",
    "from sentence_transformers import SentenceTransformer\n",
    "import numpy as np\n",
    "import faiss"
   ]
  },
  {
   "cell_type": "markdown",
   "id": "8dd87894",
   "metadata": {},
   "source": [
    "### 📄 2. Cargar y leer texto desde el PDF"
   ]
  },
  {
   "cell_type": "code",
   "execution_count": 2,
   "id": "5a611a3f",
   "metadata": {},
   "outputs": [
    {
     "name": "stdout",
     "output_type": "stream",
     "text": [
      "\n",
      "📄 Archivo: Endesa Factura 08022024.pdf\n",
      "----------------------------------------\n",
      "VX10C02P-D-06/02/24 N0026249LNNNN\n",
      "LARS TANKMAR TANKMAR\n",
      "AVENIDA ONZE DE SETEMBRE 1 ESC-3 ATC-2\n",
      "17255 BEGUR\n",
      "GIRONA\n",
      "Endesa Energía, S.A. Unipersonal. Inscrita en el Registro Mercantil de Madrid. Tomo 12.797, Libro 0, Folio 208,\n",
      " Sección 8ª, Hoja M-205.381, CIF A81948077. Domicilio Social: C/Ribera del Loira, nº60 28042 - Madrid.\n",
      "Endesa Energía, S.A. Unipersonal.\n",
      "CIF A81948077.\n",
      "C/Ribera del Loira, nº 60 28042 - Madrid.\n",
      "DATOS DE LA FACTURA\n",
      "Nº factura: PMM401N0380480\n",
      "Referencia: 012294855257/0412\n",
      "Fech\n",
      "----------------------------------------\n",
      "\n",
      "📄 Archivo: Endesa Factura 06022025.pdf\n",
      "----------------------------------------\n",
      "VX10O020-D-11/02/25 N0016126LNNNN\n",
      "LARS TANKMAR TANKMAR\n",
      "AV ONZE DE SETEMBRE 1 3 ATC 2\n",
      "17255 BEGUR\n",
      "GERONA\n",
      "Endesa Energía, S.A. Unipersonal. Inscrita en el Registro Mercantil de Madrid. Tomo 12.797, Libro 0, Folio 208,\n",
      " Sección 8ª, Hoja M-205.381, CIF A81948077. Domicilio Social: C/Ribera del Loira, nº60 28042 - Madrid.\n",
      "Endesa Energía, S.A. Unipersonal.\n",
      "CIF A81948077.\n",
      "C/Ribera del Loira, nº 60 28042 - Madrid.\n",
      "DATOS DE LA FACTURA\n",
      "Nº factura: P25CON005526043\n",
      "Referencia: 508332855402\n",
      "Fecha emisión fac\n",
      "----------------------------------------\n"
     ]
    }
   ],
   "source": [
    "from pathlib import Path\n",
    "\n",
    "import fitz  # PyMuPDF\n",
    "\n",
    "ruta_facturas = Path(\"data/facturas/\")\n",
    "\n",
    "def extraer_texto_pdf(pdf_path):\n",
    "    with fitz.open(pdf_path) as pdf:\n",
    "        texto_factura = \"\"\n",
    "        for pagina in pdf:\n",
    "            texto_factura += pagina.get_text()\n",
    "    return texto_factura\n",
    "\n",
    "for pdf_file in ruta_facturas.glob(\"*.pdf\"):\n",
    "    texto_factura = extraer_texto_pdf(pdf_file)\n",
    "    print(f\"\\n📄 Archivo: {pdf_file.name}\\n{'-'*40}\")\n",
    "    print(texto_factura[:500])\n",
    "    print(\"-\"*40)"
   ]
  },
  {
   "cell_type": "markdown",
   "id": "e102f0f3",
   "metadata": {},
   "source": [
    "### 🧾 3. Definir el esquema de los datos con Pydantic"
   ]
  },
  {
   "cell_type": "code",
   "execution_count": 3,
   "id": "0130fef9",
   "metadata": {},
   "outputs": [],
   "source": [
    "from pydantic import BaseModel\n",
    "from datetime import datetime\n",
    "\n",
    "class FacturaElectrica(BaseModel):\n",
    "    numero_factura: str\n",
    "    fecha_emision: datetime\n",
    "    periodo_inicio: datetime\n",
    "    periodo_fin: datetime\n",
    "    consumo_total_kwh: float\n",
    "    potencia_punta_kw: float\n",
    "    potencia_valle_kw: float\n",
    "    importe_total: float\n"
   ]
  },
  {
   "cell_type": "code",
   "execution_count": 4,
   "id": "20b5f514",
   "metadata": {},
   "outputs": [
    {
     "name": "stderr",
     "output_type": "stream",
     "text": [
      "/var/folders/8n/h66vxdts42ng4_hwl72sglsm0000gp/T/ipykernel_7533/4107199601.py:1: PydanticDeprecatedSince20: The `schema_json` method is deprecated; use `model_json_schema` and json.dumps instead. Deprecated in Pydantic V2.0 to be removed in V3.0. See Pydantic V2 Migration Guide at https://errors.pydantic.dev/2.11/migration/\n",
      "  esquema_json = FacturaElectrica.schema_json(indent=2)\n"
     ]
    },
    {
     "name": "stdout",
     "output_type": "stream",
     "text": [
      "{\n",
      "  \"properties\": {\n",
      "    \"numero_factura\": {\n",
      "      \"title\": \"Numero Factura\",\n",
      "      \"type\": \"string\"\n",
      "    },\n",
      "    \"fecha_emision\": {\n",
      "      \"format\": \"date-time\",\n",
      "      \"title\": \"Fecha Emision\",\n",
      "      \"type\": \"string\"\n",
      "    },\n",
      "    \"periodo_inicio\": {\n",
      "      \"format\": \"date-time\",\n",
      "      \"title\": \"Periodo Inicio\",\n",
      "      \"type\": \"string\"\n",
      "    },\n",
      "    \"periodo_fin\": {\n",
      "      \"format\": \"date-time\",\n",
      "      \"title\": \"Periodo Fin\",\n",
      "      \"type\": \"string\"\n",
      "    },\n",
      "    \"consumo_total_kwh\": {\n",
      "      \"title\": \"Consumo Total Kwh\",\n",
      "      \"type\": \"number\"\n",
      "    },\n",
      "    \"potencia_punta_kw\": {\n",
      "      \"title\": \"Potencia Punta Kw\",\n",
      "      \"type\": \"number\"\n",
      "    },\n",
      "    \"potencia_valle_kw\": {\n",
      "      \"title\": \"Potencia Valle Kw\",\n",
      "      \"type\": \"number\"\n",
      "    },\n",
      "    \"importe_total\": {\n",
      "      \"title\": \"Importe Total\",\n",
      "      \"type\": \"number\"\n",
      "    }\n",
      "  },\n",
      "  \"required\": [\n",
      "    \"numero_factura\",\n",
      "    \"fecha_emision\",\n",
      "    \"periodo_inicio\",\n",
      "    \"periodo_fin\",\n",
      "    \"consumo_total_kwh\",\n",
      "    \"potencia_punta_kw\",\n",
      "    \"potencia_valle_kw\",\n",
      "    \"importe_total\"\n",
      "  ],\n",
      "  \"title\": \"FacturaElectrica\",\n",
      "  \"type\": \"object\"\n",
      "}\n"
     ]
    }
   ],
   "source": [
    "esquema_json = FacturaElectrica.schema_json(indent=2)\n",
    "print(esquema_json)"
   ]
  },
  {
   "cell_type": "markdown",
   "id": "7bf5aa8a",
   "metadata": {},
   "source": [
    "### 🧩 5. Fragmentación semántica y generación de embeddings"
   ]
  },
  {
   "cell_type": "code",
   "execution_count": 11,
   "id": "33afdb9e",
   "metadata": {},
   "outputs": [],
   "source": [
    "import re\n",
    "from typing import List\n",
    "from sentence_transformers import SentenceTransformer\n",
    "\n",
    "# 📌 Cargar modelo de embeddings\n",
    "modelo_embeddings = SentenceTransformer(\"all-MiniLM-L6-v2\")\n",
    "\n",
    "# Nueva función para fragmentar texto por secciones específicas\n",
    "def chunk_por_secciones(texto: str, secciones: List[str]) -> List[str]:\n",
    "    # Crear patrón regex que detecte los títulos de secciones\n",
    "    patron = '|'.join([re.escape(sec) for sec in secciones])\n",
    "    indices = [m.start() for m in re.finditer(patron, texto)]\n",
    "    indices.append(len(texto))  # Para el último chunk\n",
    "    \n",
    "    chunks = []\n",
    "    for i in range(len(indices)-1):\n",
    "        chunk = texto[indices[i]:indices[i+1]].strip()\n",
    "        if chunk:\n",
    "            chunks.append(chunk)\n",
    "    return chunks\n",
    "\n",
    "# Lista de secciones típicas en factura eléctrica\n",
    "secciones = [\n",
    "    \"Datos de la factura\",\n",
    "    \"Número de factura\",\n",
    "    \"Fecha de emisión\",\n",
    "    \"Periodo de facturación\",\n",
    "    \"Consumo eléctrico\",\n",
    "    \"Consumo total\",\n",
    "    \"Potencia contratada\",\n",
    "    \"Total\"\n",
    "]\n",
    "\n",
    "# Fragmentar el texto de la factura por secciones\n",
    "fragmentos = chunk_por_secciones(texto_factura, secciones)\n",
    "\n",
    "# 📌 Generar embeddings a partir de los fragmentos obtenidos\n",
    "embeddings = modelo_embeddings.encode(fragmentos, convert_to_tensor=False)\n"
   ]
  },
  {
   "cell_type": "markdown",
   "id": "468cc5fb",
   "metadata": {},
   "source": [
    "### 🧩 5. Guardar embeddings en ChromaDB"
   ]
  },
  {
   "cell_type": "code",
   "execution_count": 7,
   "id": "2e31cab8",
   "metadata": {},
   "outputs": [
    {
     "name": "stdout",
     "output_type": "stream",
     "text": [
      "Requirement already satisfied: chromadb in /opt/anaconda3/envs/tfa_prompt/lib/python3.11/site-packages (1.0.10)\n",
      "Requirement already satisfied: build>=1.0.3 in /opt/anaconda3/envs/tfa_prompt/lib/python3.11/site-packages (from chromadb) (1.2.2.post1)\n",
      "Requirement already satisfied: pydantic>=1.9 in /opt/anaconda3/envs/tfa_prompt/lib/python3.11/site-packages (from chromadb) (2.11.5)\n",
      "Requirement already satisfied: fastapi==0.115.9 in /opt/anaconda3/envs/tfa_prompt/lib/python3.11/site-packages (from chromadb) (0.115.9)\n",
      "Requirement already satisfied: uvicorn>=0.18.3 in /opt/anaconda3/envs/tfa_prompt/lib/python3.11/site-packages (from uvicorn[standard]>=0.18.3->chromadb) (0.34.2)\n",
      "Requirement already satisfied: numpy>=1.22.5 in /opt/anaconda3/envs/tfa_prompt/lib/python3.11/site-packages (from chromadb) (1.26.4)\n",
      "Requirement already satisfied: posthog>=2.4.0 in /opt/anaconda3/envs/tfa_prompt/lib/python3.11/site-packages (from chromadb) (4.2.0)\n",
      "Requirement already satisfied: typing-extensions>=4.5.0 in /opt/anaconda3/envs/tfa_prompt/lib/python3.11/site-packages (from chromadb) (4.13.2)\n",
      "Requirement already satisfied: onnxruntime>=1.14.1 in /opt/anaconda3/envs/tfa_prompt/lib/python3.11/site-packages (from chromadb) (1.22.0)\n",
      "Requirement already satisfied: opentelemetry-api>=1.2.0 in /opt/anaconda3/envs/tfa_prompt/lib/python3.11/site-packages (from chromadb) (1.33.1)\n",
      "Requirement already satisfied: opentelemetry-exporter-otlp-proto-grpc>=1.2.0 in /opt/anaconda3/envs/tfa_prompt/lib/python3.11/site-packages (from chromadb) (1.33.1)\n",
      "Requirement already satisfied: opentelemetry-instrumentation-fastapi>=0.41b0 in /opt/anaconda3/envs/tfa_prompt/lib/python3.11/site-packages (from chromadb) (0.54b1)\n",
      "Requirement already satisfied: opentelemetry-sdk>=1.2.0 in /opt/anaconda3/envs/tfa_prompt/lib/python3.11/site-packages (from chromadb) (1.33.1)\n",
      "Requirement already satisfied: tokenizers>=0.13.2 in /opt/anaconda3/envs/tfa_prompt/lib/python3.11/site-packages (from chromadb) (0.21.1)\n",
      "Requirement already satisfied: pypika>=0.48.9 in /opt/anaconda3/envs/tfa_prompt/lib/python3.11/site-packages (from chromadb) (0.48.9)\n",
      "Requirement already satisfied: tqdm>=4.65.0 in /opt/anaconda3/envs/tfa_prompt/lib/python3.11/site-packages (from chromadb) (4.67.1)\n",
      "Requirement already satisfied: overrides>=7.3.1 in /opt/anaconda3/envs/tfa_prompt/lib/python3.11/site-packages (from chromadb) (7.7.0)\n",
      "Requirement already satisfied: importlib-resources in /opt/anaconda3/envs/tfa_prompt/lib/python3.11/site-packages (from chromadb) (6.5.2)\n",
      "Requirement already satisfied: grpcio>=1.58.0 in /opt/anaconda3/envs/tfa_prompt/lib/python3.11/site-packages (from chromadb) (1.71.0)\n",
      "Requirement already satisfied: bcrypt>=4.0.1 in /opt/anaconda3/envs/tfa_prompt/lib/python3.11/site-packages (from chromadb) (4.3.0)\n",
      "Requirement already satisfied: typer>=0.9.0 in /opt/anaconda3/envs/tfa_prompt/lib/python3.11/site-packages (from chromadb) (0.16.0)\n",
      "Requirement already satisfied: kubernetes>=28.1.0 in /opt/anaconda3/envs/tfa_prompt/lib/python3.11/site-packages (from chromadb) (32.0.1)\n",
      "Requirement already satisfied: tenacity>=8.2.3 in /opt/anaconda3/envs/tfa_prompt/lib/python3.11/site-packages (from chromadb) (9.1.2)\n",
      "Requirement already satisfied: pyyaml>=6.0.0 in /opt/anaconda3/envs/tfa_prompt/lib/python3.11/site-packages (from chromadb) (6.0.2)\n",
      "Requirement already satisfied: mmh3>=4.0.1 in /opt/anaconda3/envs/tfa_prompt/lib/python3.11/site-packages (from chromadb) (5.1.0)\n",
      "Requirement already satisfied: orjson>=3.9.12 in /opt/anaconda3/envs/tfa_prompt/lib/python3.11/site-packages (from chromadb) (3.10.18)\n",
      "Requirement already satisfied: httpx>=0.27.0 in /opt/anaconda3/envs/tfa_prompt/lib/python3.11/site-packages (from chromadb) (0.28.1)\n",
      "Requirement already satisfied: rich>=10.11.0 in /opt/anaconda3/envs/tfa_prompt/lib/python3.11/site-packages (from chromadb) (14.0.0)\n",
      "Requirement already satisfied: jsonschema>=4.19.0 in /opt/anaconda3/envs/tfa_prompt/lib/python3.11/site-packages (from chromadb) (4.24.0)\n",
      "Requirement already satisfied: starlette<0.46.0,>=0.40.0 in /opt/anaconda3/envs/tfa_prompt/lib/python3.11/site-packages (from fastapi==0.115.9->chromadb) (0.45.3)\n",
      "Requirement already satisfied: annotated-types>=0.6.0 in /opt/anaconda3/envs/tfa_prompt/lib/python3.11/site-packages (from pydantic>=1.9->chromadb) (0.7.0)\n",
      "Requirement already satisfied: pydantic-core==2.33.2 in /opt/anaconda3/envs/tfa_prompt/lib/python3.11/site-packages (from pydantic>=1.9->chromadb) (2.33.2)\n",
      "Requirement already satisfied: typing-inspection>=0.4.0 in /opt/anaconda3/envs/tfa_prompt/lib/python3.11/site-packages (from pydantic>=1.9->chromadb) (0.4.1)\n",
      "Requirement already satisfied: anyio<5,>=3.6.2 in /opt/anaconda3/envs/tfa_prompt/lib/python3.11/site-packages (from starlette<0.46.0,>=0.40.0->fastapi==0.115.9->chromadb) (4.9.0)\n",
      "Requirement already satisfied: idna>=2.8 in /opt/anaconda3/envs/tfa_prompt/lib/python3.11/site-packages (from anyio<5,>=3.6.2->starlette<0.46.0,>=0.40.0->fastapi==0.115.9->chromadb) (3.10)\n",
      "Requirement already satisfied: sniffio>=1.1 in /opt/anaconda3/envs/tfa_prompt/lib/python3.11/site-packages (from anyio<5,>=3.6.2->starlette<0.46.0,>=0.40.0->fastapi==0.115.9->chromadb) (1.3.1)\n",
      "Requirement already satisfied: packaging>=19.1 in /opt/anaconda3/envs/tfa_prompt/lib/python3.11/site-packages (from build>=1.0.3->chromadb) (24.2)\n",
      "Requirement already satisfied: pyproject_hooks in /opt/anaconda3/envs/tfa_prompt/lib/python3.11/site-packages (from build>=1.0.3->chromadb) (1.2.0)\n",
      "Requirement already satisfied: certifi in /opt/anaconda3/envs/tfa_prompt/lib/python3.11/site-packages (from httpx>=0.27.0->chromadb) (2025.4.26)\n",
      "Requirement already satisfied: httpcore==1.* in /opt/anaconda3/envs/tfa_prompt/lib/python3.11/site-packages (from httpx>=0.27.0->chromadb) (1.0.9)\n",
      "Requirement already satisfied: h11>=0.16 in /opt/anaconda3/envs/tfa_prompt/lib/python3.11/site-packages (from httpcore==1.*->httpx>=0.27.0->chromadb) (0.16.0)\n",
      "Requirement already satisfied: attrs>=22.2.0 in /opt/anaconda3/envs/tfa_prompt/lib/python3.11/site-packages (from jsonschema>=4.19.0->chromadb) (25.3.0)\n",
      "Requirement already satisfied: jsonschema-specifications>=2023.03.6 in /opt/anaconda3/envs/tfa_prompt/lib/python3.11/site-packages (from jsonschema>=4.19.0->chromadb) (2025.4.1)\n",
      "Requirement already satisfied: referencing>=0.28.4 in /opt/anaconda3/envs/tfa_prompt/lib/python3.11/site-packages (from jsonschema>=4.19.0->chromadb) (0.36.2)\n",
      "Requirement already satisfied: rpds-py>=0.7.1 in /opt/anaconda3/envs/tfa_prompt/lib/python3.11/site-packages (from jsonschema>=4.19.0->chromadb) (0.25.1)\n",
      "Requirement already satisfied: six>=1.9.0 in /opt/anaconda3/envs/tfa_prompt/lib/python3.11/site-packages (from kubernetes>=28.1.0->chromadb) (1.17.0)\n",
      "Requirement already satisfied: python-dateutil>=2.5.3 in /opt/anaconda3/envs/tfa_prompt/lib/python3.11/site-packages (from kubernetes>=28.1.0->chromadb) (2.9.0.post0)\n",
      "Requirement already satisfied: google-auth>=1.0.1 in /opt/anaconda3/envs/tfa_prompt/lib/python3.11/site-packages (from kubernetes>=28.1.0->chromadb) (2.40.2)\n",
      "Requirement already satisfied: websocket-client!=0.40.0,!=0.41.*,!=0.42.*,>=0.32.0 in /opt/anaconda3/envs/tfa_prompt/lib/python3.11/site-packages (from kubernetes>=28.1.0->chromadb) (1.8.0)\n",
      "Requirement already satisfied: requests in /opt/anaconda3/envs/tfa_prompt/lib/python3.11/site-packages (from kubernetes>=28.1.0->chromadb) (2.32.3)\n",
      "Requirement already satisfied: requests-oauthlib in /opt/anaconda3/envs/tfa_prompt/lib/python3.11/site-packages (from kubernetes>=28.1.0->chromadb) (2.0.0)\n",
      "Requirement already satisfied: oauthlib>=3.2.2 in /opt/anaconda3/envs/tfa_prompt/lib/python3.11/site-packages (from kubernetes>=28.1.0->chromadb) (3.2.2)\n",
      "Requirement already satisfied: urllib3>=1.24.2 in /opt/anaconda3/envs/tfa_prompt/lib/python3.11/site-packages (from kubernetes>=28.1.0->chromadb) (2.4.0)\n",
      "Requirement already satisfied: durationpy>=0.7 in /opt/anaconda3/envs/tfa_prompt/lib/python3.11/site-packages (from kubernetes>=28.1.0->chromadb) (0.10)\n",
      "Requirement already satisfied: cachetools<6.0,>=2.0.0 in /opt/anaconda3/envs/tfa_prompt/lib/python3.11/site-packages (from google-auth>=1.0.1->kubernetes>=28.1.0->chromadb) (5.5.2)\n",
      "Requirement already satisfied: pyasn1-modules>=0.2.1 in /opt/anaconda3/envs/tfa_prompt/lib/python3.11/site-packages (from google-auth>=1.0.1->kubernetes>=28.1.0->chromadb) (0.4.2)\n",
      "Requirement already satisfied: rsa<5,>=3.1.4 in /opt/anaconda3/envs/tfa_prompt/lib/python3.11/site-packages (from google-auth>=1.0.1->kubernetes>=28.1.0->chromadb) (4.9.1)\n",
      "Requirement already satisfied: pyasn1>=0.1.3 in /opt/anaconda3/envs/tfa_prompt/lib/python3.11/site-packages (from rsa<5,>=3.1.4->google-auth>=1.0.1->kubernetes>=28.1.0->chromadb) (0.6.1)\n",
      "Requirement already satisfied: coloredlogs in /opt/anaconda3/envs/tfa_prompt/lib/python3.11/site-packages (from onnxruntime>=1.14.1->chromadb) (15.0.1)\n",
      "Requirement already satisfied: flatbuffers in /opt/anaconda3/envs/tfa_prompt/lib/python3.11/site-packages (from onnxruntime>=1.14.1->chromadb) (25.2.10)\n",
      "Requirement already satisfied: protobuf in /opt/anaconda3/envs/tfa_prompt/lib/python3.11/site-packages (from onnxruntime>=1.14.1->chromadb) (5.29.4)\n",
      "Requirement already satisfied: sympy in /opt/anaconda3/envs/tfa_prompt/lib/python3.11/site-packages (from onnxruntime>=1.14.1->chromadb) (1.14.0)\n",
      "Requirement already satisfied: deprecated>=1.2.6 in /opt/anaconda3/envs/tfa_prompt/lib/python3.11/site-packages (from opentelemetry-api>=1.2.0->chromadb) (1.2.18)\n",
      "Requirement already satisfied: importlib-metadata<8.7.0,>=6.0 in /opt/anaconda3/envs/tfa_prompt/lib/python3.11/site-packages (from opentelemetry-api>=1.2.0->chromadb) (8.6.1)\n",
      "Requirement already satisfied: zipp>=3.20 in /opt/anaconda3/envs/tfa_prompt/lib/python3.11/site-packages (from importlib-metadata<8.7.0,>=6.0->opentelemetry-api>=1.2.0->chromadb) (3.21.0)\n",
      "Requirement already satisfied: wrapt<2,>=1.10 in /opt/anaconda3/envs/tfa_prompt/lib/python3.11/site-packages (from deprecated>=1.2.6->opentelemetry-api>=1.2.0->chromadb) (1.17.2)\n",
      "Requirement already satisfied: googleapis-common-protos~=1.52 in /opt/anaconda3/envs/tfa_prompt/lib/python3.11/site-packages (from opentelemetry-exporter-otlp-proto-grpc>=1.2.0->chromadb) (1.70.0)\n",
      "Requirement already satisfied: opentelemetry-exporter-otlp-proto-common==1.33.1 in /opt/anaconda3/envs/tfa_prompt/lib/python3.11/site-packages (from opentelemetry-exporter-otlp-proto-grpc>=1.2.0->chromadb) (1.33.1)\n",
      "Requirement already satisfied: opentelemetry-proto==1.33.1 in /opt/anaconda3/envs/tfa_prompt/lib/python3.11/site-packages (from opentelemetry-exporter-otlp-proto-grpc>=1.2.0->chromadb) (1.33.1)\n",
      "Requirement already satisfied: opentelemetry-semantic-conventions==0.54b1 in /opt/anaconda3/envs/tfa_prompt/lib/python3.11/site-packages (from opentelemetry-sdk>=1.2.0->chromadb) (0.54b1)\n",
      "Requirement already satisfied: opentelemetry-instrumentation-asgi==0.54b1 in /opt/anaconda3/envs/tfa_prompt/lib/python3.11/site-packages (from opentelemetry-instrumentation-fastapi>=0.41b0->chromadb) (0.54b1)\n",
      "Requirement already satisfied: opentelemetry-instrumentation==0.54b1 in /opt/anaconda3/envs/tfa_prompt/lib/python3.11/site-packages (from opentelemetry-instrumentation-fastapi>=0.41b0->chromadb) (0.54b1)\n",
      "Requirement already satisfied: opentelemetry-util-http==0.54b1 in /opt/anaconda3/envs/tfa_prompt/lib/python3.11/site-packages (from opentelemetry-instrumentation-fastapi>=0.41b0->chromadb) (0.54b1)\n",
      "Requirement already satisfied: asgiref~=3.0 in /opt/anaconda3/envs/tfa_prompt/lib/python3.11/site-packages (from opentelemetry-instrumentation-asgi==0.54b1->opentelemetry-instrumentation-fastapi>=0.41b0->chromadb) (3.8.1)\n",
      "Requirement already satisfied: backoff>=1.10.0 in /opt/anaconda3/envs/tfa_prompt/lib/python3.11/site-packages (from posthog>=2.4.0->chromadb) (2.2.1)\n",
      "Requirement already satisfied: distro>=1.5.0 in /opt/anaconda3/envs/tfa_prompt/lib/python3.11/site-packages (from posthog>=2.4.0->chromadb) (1.9.0)\n",
      "Requirement already satisfied: charset-normalizer<4,>=2 in /opt/anaconda3/envs/tfa_prompt/lib/python3.11/site-packages (from requests->kubernetes>=28.1.0->chromadb) (3.4.2)\n",
      "Requirement already satisfied: markdown-it-py>=2.2.0 in /opt/anaconda3/envs/tfa_prompt/lib/python3.11/site-packages (from rich>=10.11.0->chromadb) (3.0.0)\n",
      "Requirement already satisfied: pygments<3.0.0,>=2.13.0 in /opt/anaconda3/envs/tfa_prompt/lib/python3.11/site-packages (from rich>=10.11.0->chromadb) (2.19.1)\n",
      "Requirement already satisfied: mdurl~=0.1 in /opt/anaconda3/envs/tfa_prompt/lib/python3.11/site-packages (from markdown-it-py>=2.2.0->rich>=10.11.0->chromadb) (0.1.2)\n",
      "Requirement already satisfied: huggingface-hub<1.0,>=0.16.4 in /opt/anaconda3/envs/tfa_prompt/lib/python3.11/site-packages (from tokenizers>=0.13.2->chromadb) (0.32.0)\n",
      "Requirement already satisfied: filelock in /opt/anaconda3/envs/tfa_prompt/lib/python3.11/site-packages (from huggingface-hub<1.0,>=0.16.4->tokenizers>=0.13.2->chromadb) (3.18.0)\n",
      "Requirement already satisfied: fsspec>=2023.5.0 in /opt/anaconda3/envs/tfa_prompt/lib/python3.11/site-packages (from huggingface-hub<1.0,>=0.16.4->tokenizers>=0.13.2->chromadb) (2025.5.1)\n",
      "Requirement already satisfied: hf-xet<2.0.0,>=1.1.2 in /opt/anaconda3/envs/tfa_prompt/lib/python3.11/site-packages (from huggingface-hub<1.0,>=0.16.4->tokenizers>=0.13.2->chromadb) (1.1.2)\n",
      "Requirement already satisfied: click>=8.0.0 in /opt/anaconda3/envs/tfa_prompt/lib/python3.11/site-packages (from typer>=0.9.0->chromadb) (8.2.1)\n",
      "Requirement already satisfied: shellingham>=1.3.0 in /opt/anaconda3/envs/tfa_prompt/lib/python3.11/site-packages (from typer>=0.9.0->chromadb) (1.5.4)\n",
      "Requirement already satisfied: httptools>=0.6.3 in /opt/anaconda3/envs/tfa_prompt/lib/python3.11/site-packages (from uvicorn[standard]>=0.18.3->chromadb) (0.6.4)\n",
      "Requirement already satisfied: python-dotenv>=0.13 in /opt/anaconda3/envs/tfa_prompt/lib/python3.11/site-packages (from uvicorn[standard]>=0.18.3->chromadb) (1.1.0)\n",
      "Requirement already satisfied: uvloop!=0.15.0,!=0.15.1,>=0.14.0 in /opt/anaconda3/envs/tfa_prompt/lib/python3.11/site-packages (from uvicorn[standard]>=0.18.3->chromadb) (0.21.0)\n",
      "Requirement already satisfied: watchfiles>=0.13 in /opt/anaconda3/envs/tfa_prompt/lib/python3.11/site-packages (from uvicorn[standard]>=0.18.3->chromadb) (1.0.5)\n",
      "Requirement already satisfied: websockets>=10.4 in /opt/anaconda3/envs/tfa_prompt/lib/python3.11/site-packages (from uvicorn[standard]>=0.18.3->chromadb) (15.0.1)\n",
      "Requirement already satisfied: humanfriendly>=9.1 in /opt/anaconda3/envs/tfa_prompt/lib/python3.11/site-packages (from coloredlogs->onnxruntime>=1.14.1->chromadb) (10.0)\n",
      "Requirement already satisfied: mpmath<1.4,>=1.1.0 in /opt/anaconda3/envs/tfa_prompt/lib/python3.11/site-packages (from sympy->onnxruntime>=1.14.1->chromadb) (1.3.0)\n"
     ]
    }
   ],
   "source": [
    "!pip install chromadb"
   ]
  },
  {
   "cell_type": "code",
   "execution_count": 12,
   "id": "c7d7bcb3",
   "metadata": {},
   "outputs": [
    {
     "name": "stdout",
     "output_type": "stream",
     "text": [
      "Se han guardado 3 fragmentos en ChromaDB.\n"
     ]
    }
   ],
   "source": [
    "import chromadb\n",
    "\n",
    "# Inicializar el cliente de ChromaDB (almacenamiento local por defecto)\n",
    "client = chromadb.Client()\n",
    "\n",
    "# Crear o obtener una colección\n",
    "coleccion = client.get_or_create_collection(\"facturas_electricas\")\n",
    "\n",
    "# Guardar los embeddings y fragmentos en la colección\n",
    "ids = [f\"fragmento_{i}\" for i in range(len(fragmentos))]\n",
    "coleccion.add(\n",
    "    embeddings=embeddings.tolist(),\n",
    "    documents=fragmentos,\n",
    "    ids=ids\n",
    ")\n",
    "\n",
    "print(f\"Se han guardado {len(fragmentos)} fragmentos en ChromaDB.\")"
   ]
  },
  {
   "cell_type": "code",
   "execution_count": 1,
   "id": "dcb96a4e",
   "metadata": {},
   "outputs": [
    {
     "name": "stderr",
     "output_type": "stream",
     "text": [
      "/opt/anaconda3/envs/tfa_prompt/lib/python3.11/site-packages/tqdm/auto.py:21: TqdmWarning: IProgress not found. Please update jupyter and ipywidgets. See https://ipywidgets.readthedocs.io/en/stable/user_install.html\n",
      "  from .autonotebook import tqdm as notebook_tqdm\n"
     ]
    },
    {
     "ename": "NameError",
     "evalue": "name 'chromadb' is not defined",
     "output_type": "error",
     "traceback": [
      "\u001b[31m---------------------------------------------------------------------------\u001b[39m",
      "\u001b[31mNameError\u001b[39m                                 Traceback (most recent call last)",
      "\u001b[36mCell\u001b[39m\u001b[36m \u001b[39m\u001b[32mIn[1]\u001b[39m\u001b[32m, line 4\u001b[39m\n\u001b[32m      1\u001b[39m \u001b[38;5;28;01mfrom\u001b[39;00m\u001b[38;5;250m \u001b[39m\u001b[34;01mtransformers\u001b[39;00m\u001b[38;5;250m \u001b[39m\u001b[38;5;28;01mimport\u001b[39;00m pipeline\n\u001b[32m      3\u001b[39m \u001b[38;5;66;03m# Conectar a ChromaDB\u001b[39;00m\n\u001b[32m----> \u001b[39m\u001b[32m4\u001b[39m client = \u001b[43mchromadb\u001b[49m.PersistentClient(path=\u001b[33m\"\u001b[39m\u001b[33m./chroma\u001b[39m\u001b[33m\"\u001b[39m)\n\u001b[32m      5\u001b[39m collection = client.get_or_create_collection(name=\u001b[33m\"\u001b[39m\u001b[33mfacturas_electricas\u001b[39m\u001b[33m\"\u001b[39m)\n\u001b[32m      6\u001b[39m \u001b[38;5;66;03m# Cargar LLM (puedes cambiar por otro si usas API o HuggingFace Pipeline)\u001b[39;00m\n\u001b[32m      7\u001b[39m \u001b[38;5;66;03m#qa_pipeline = pipeline(\"text-generation\", model=\"gpt2\", max_length=200)\u001b[39;00m\n",
      "\u001b[31mNameError\u001b[39m: name 'chromadb' is not defined"
     ]
    }
   ],
   "source": [
    "\n",
    "from transformers import pipeline\n",
    "\n",
    "# Conectar a ChromaDB\n",
    "client = chromadb.PersistentClient(path=\"./chroma\")\n",
    "collection = client.get_or_create_collection(name=\"facturas_electricas\")\n",
    "# Cargar LLM (puedes cambiar por otro si usas API o HuggingFace Pipeline)\n",
    "#qa_pipeline = pipeline(\"text-generation\", model=\"gpt2\", max_length=200)\n",
    "qa_pipeline = pipeline(\"text-generation\", model=\"sshleifer/tiny-gpt2\", max_length=100)\n",
    "\n",
    "def buscar_contexto(query, top_k=3):\n",
    "    embedding = modelo_embeddings.encode(query).tolist()\n",
    "    results = collection.query(\n",
    "        query_embeddings=[embedding],\n",
    "        n_results=top_k\n",
    "    )\n",
    "    return results['documents'][0]\n",
    "\n",
    "def construir_prompt(contexto, pregunta):\n",
    "    context_str = \"\\n\".join(contexto)\n",
    "    return f\"\"\"Usa la siguiente información de facturas eléctricas para responder la pregunta:\n",
    "---\n",
    "{context_str}\n",
    "---\n",
    "Pregunta: {pregunta}\n",
    "Respuesta:\"\"\"\n",
    "\n",
    "def generar_respuesta(prompt):\n",
    "    output = qa_pipeline(prompt)\n",
    "    return output[0]['generated_text'].replace(prompt, '').strip()"
   ]
  },
  {
   "cell_type": "code",
   "execution_count": null,
   "id": "750586ab",
   "metadata": {},
   "outputs": [],
   "source": [
    "!pip install streamlit"
   ]
  },
  {
   "cell_type": "code",
   "execution_count": 2,
   "id": "b34f469d",
   "metadata": {},
   "outputs": [
    {
     "name": "stderr",
     "output_type": "stream",
     "text": [
      "2025-05-27 00:07:21.952 WARNING streamlit.runtime.scriptrunner_utils.script_run_context: Thread 'MainThread': missing ScriptRunContext! This warning can be ignored when running in bare mode.\n",
      "2025-05-27 00:07:21.953 WARNING streamlit.runtime.scriptrunner_utils.script_run_context: Thread 'MainThread': missing ScriptRunContext! This warning can be ignored when running in bare mode.\n",
      "2025-05-27 00:07:22.054 \n",
      "  \u001b[33m\u001b[1mWarning:\u001b[0m to view this Streamlit app on a browser, run it with the following\n",
      "  command:\n",
      "\n",
      "    streamlit run /opt/anaconda3/envs/tfa_prompt/lib/python3.11/site-packages/ipykernel_launcher.py [ARGUMENTS]\n",
      "2025-05-27 00:07:22.054 Thread 'MainThread': missing ScriptRunContext! This warning can be ignored when running in bare mode.\n",
      "2025-05-27 00:07:22.055 Thread 'MainThread': missing ScriptRunContext! This warning can be ignored when running in bare mode.\n",
      "2025-05-27 00:07:22.055 Thread 'MainThread': missing ScriptRunContext! This warning can be ignored when running in bare mode.\n",
      "2025-05-27 00:07:22.056 Thread 'MainThread': missing ScriptRunContext! This warning can be ignored when running in bare mode.\n",
      "2025-05-27 00:07:22.056 Thread 'MainThread': missing ScriptRunContext! This warning can be ignored when running in bare mode.\n",
      "2025-05-27 00:07:22.057 Thread 'MainThread': missing ScriptRunContext! This warning can be ignored when running in bare mode.\n",
      "2025-05-27 00:07:22.074 Thread 'MainThread': missing ScriptRunContext! This warning can be ignored when running in bare mode.\n",
      "2025-05-27 00:07:22.074 Session state does not function when running a script without `streamlit run`\n",
      "2025-05-27 00:07:22.075 Thread 'MainThread': missing ScriptRunContext! This warning can be ignored when running in bare mode.\n",
      "2025-05-27 00:07:22.076 Thread 'MainThread': missing ScriptRunContext! This warning can be ignored when running in bare mode.\n",
      "2025-05-27 00:07:22.077 Thread 'MainThread': missing ScriptRunContext! This warning can be ignored when running in bare mode.\n",
      "2025-05-27 00:07:22.077 Thread 'MainThread': missing ScriptRunContext! This warning can be ignored when running in bare mode.\n",
      "2025-05-27 00:07:22.078 Thread 'MainThread': missing ScriptRunContext! This warning can be ignored when running in bare mode.\n",
      "2025-05-27 00:07:22.078 Thread 'MainThread': missing ScriptRunContext! This warning can be ignored when running in bare mode.\n",
      "2025-05-27 00:07:22.079 Thread 'MainThread': missing ScriptRunContext! This warning can be ignored when running in bare mode.\n"
     ]
    }
   ],
   "source": [
    "import streamlit as st\n",
    "from rag_utils import buscar_contexto, construir_prompt, generar_respuesta\n",
    "\n",
    "st.set_page_config(page_title=\"RAG - Facturas Eléctricas\")\n",
    "\n",
    "st.title(\"🧾 RAG para Análisis de Facturas Eléctricas\")\n",
    "st.markdown(\"Escribe tu consulta y usa el sistema RAG para obtener respuestas basadas en documentos.\")\n",
    "\n",
    "pregunta = st.text_input(\"Escribe tu pregunta aquí:\", \"\")\n",
    "\n",
    "if st.button(\"Consultar\") and pregunta.strip():\n",
    "    with st.spinner(\"Buscando en la base de conocimiento...\"):\n",
    "        contexto = buscar_contexto(pregunta)\n",
    "        prompt = construir_prompt(contexto, pregunta)\n",
    "        respuesta = generar_respuesta(prompt)\n",
    "\n",
    "    st.subheader(\"🔍 Respuesta generada:\")\n",
    "    st.write(respuesta)"
   ]
  }
 ],
 "metadata": {
  "kernelspec": {
   "display_name": "tfa_prompt",
   "language": "python",
   "name": "python3"
  },
  "language_info": {
   "codemirror_mode": {
    "name": "ipython",
    "version": 3
   },
   "file_extension": ".py",
   "mimetype": "text/x-python",
   "name": "python",
   "nbconvert_exporter": "python",
   "pygments_lexer": "ipython3",
   "version": "3.11.8"
  }
 },
 "nbformat": 4,
 "nbformat_minor": 5
}
